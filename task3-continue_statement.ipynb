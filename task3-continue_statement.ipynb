{
 "cells": [
  {
   "cell_type": "markdown",
   "id": "1afcc20f-8a65-4c21-aa23-13ba5846335f",
   "metadata": {},
   "source": [
    "# Continue Statement"
   ]
  },
  {
   "cell_type": "markdown",
   "id": "9953ae18-d776-410d-8015-a401ef42c2d8",
   "metadata": {},
   "source": [
    "* The continue statement in Python is used to skip the rest of the code inside the current loop iteration and proceed directly to the next iteration of      the loop.          \n",
    "* This can be useful when you want to bypass certain conditions or values without terminating the loop.\n",
    "* With the continue statement we can stop the current iteration, and continue with the next. "
   ]
  },
  {
   "cell_type": "markdown",
   "id": "16211225-e273-4116-acaf-e9a314f03361",
   "metadata": {},
   "source": [
    "* Uses\n",
    "1. Skipping Specific Elements in a Loop\n",
    "2. Filtering Characters in a String\n",
    "3. Skipping Invalid Data in a List\n",
    "4. iltering Numbers in a Range\n",
    "5. terating Through a Dictionary\n",
    "6. Skipping Lines in a File"
   ]
  },
  {
   "cell_type": "markdown",
   "id": "397ce0cd-2cbd-49b7-8f3a-2decf685e4ac",
   "metadata": {},
   "source": [
    "* Syntax         \n",
    "     loop{    \n",
    "         condition        \n",
    "         continue        \n",
    "          }          "
   ]
  },
  {
   "cell_type": "code",
   "execution_count": 1,
   "id": "b119af46-3a3a-4412-b2f2-887b378f95f2",
   "metadata": {},
   "outputs": [
    {
     "name": "stdout",
     "output_type": "stream",
     "text": [
      "1\n",
      "2\n",
      "4\n",
      "5\n",
      "6\n"
     ]
    }
   ],
   "source": [
    "i = 0\n",
    "while i < 6:\n",
    "  i += 1\n",
    "  if i == 3:\n",
    "    continue\n",
    "  print(i)"
   ]
  },
  {
   "cell_type": "code",
   "execution_count": 2,
   "id": "0acbbebc-a333-4e0a-8076-bccdb4aa68a4",
   "metadata": {},
   "outputs": [
    {
     "name": "stdout",
     "output_type": "stream",
     "text": [
      "apple\n",
      "cherry\n"
     ]
    }
   ],
   "source": [
    "fruits = [\"apple\", \"banana\", \"cherry\"]\n",
    "for x in fruits:\n",
    "  if x == \"banana\":\n",
    "    continue\n",
    "  print(x)"
   ]
  },
  {
   "cell_type": "code",
   "execution_count": 3,
   "id": "cad0b8fc-0a35-4138-a2b7-1a646b08bc38",
   "metadata": {},
   "outputs": [
    {
     "name": "stdout",
     "output_type": "stream",
     "text": [
      "Words longer than 3 characters:\n",
      "hello\n",
      "welcome\n"
     ]
    }
   ],
   "source": [
    "words = [\"hi\", \"hello\", \"bye\", \"yes\", \"no\", \"welcome\"]\n",
    "print(\"Words longer than 3 characters:\")\n",
    "for word in words:\n",
    "    if len(word) <= 3:  \n",
    "        continue       \n",
    "    print(word)  "
   ]
  },
  {
   "cell_type": "code",
   "execution_count": null,
   "id": "127b0bc4-596e-4ef8-a46d-dc0f13b88c75",
   "metadata": {},
   "outputs": [],
   "source": []
  }
 ],
 "metadata": {
  "kernelspec": {
   "display_name": "Python 3 (ipykernel)",
   "language": "python",
   "name": "python3"
  },
  "language_info": {
   "codemirror_mode": {
    "name": "ipython",
    "version": 3
   },
   "file_extension": ".py",
   "mimetype": "text/x-python",
   "name": "python",
   "nbconvert_exporter": "python",
   "pygments_lexer": "ipython3",
   "version": "3.11.7"
  }
 },
 "nbformat": 4,
 "nbformat_minor": 5
}

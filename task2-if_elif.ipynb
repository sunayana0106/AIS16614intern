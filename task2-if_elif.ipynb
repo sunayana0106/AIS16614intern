{
 "cells": [
  {
   "cell_type": "markdown",
   "id": "12100665-5da5-4e1b-ab47-b7030a397a4c",
   "metadata": {},
   "source": [
    "# If elif condition"
   ]
  },
  {
   "cell_type": "markdown",
   "id": "51c8ed7c-3e25-4839-907d-ceca5f46e582",
   "metadata": {},
   "source": [
    "* An if...elif...else statement in Python allows you to execute different blocks of code based on different conditions.  \n",
    "* It is a control flow statement that helps you branch your code execution based on boolean expressions.\n",
    "* Using if...elif...else statements allows for complex decision-making processes in your code, enabling you to handle multiple conditions in a clean      and readable manner.\n",
    "* The elif keyword is Python's way of saying \"if the previous conditions were not true, then try this condition\".le"
   ]
  },
  {
   "cell_type": "markdown",
   "id": "e296e379-bbbc-4225-bd2f-27902e8bbf17",
   "metadata": {},
   "source": [
    "* Syntax   \n",
    "if condition1:     \n",
    "    #Code block to execute if condition1 is True          \n",
    "elif condition2:    \n",
    "    #Code block to execute if condition2 is True          \n",
    "elif condition3:           \n",
    "    #Code block to execute if condition3 is True             \n",
    "else:              \n",
    "    #Code block to execute if none of the above conditions are True         "
   ]
  },
  {
   "cell_type": "markdown",
   "id": "45226fa8-0fe9-4cef-8601-f2256ebf2593",
   "metadata": {},
   "source": [
    "if Statement:   \n",
    "The if statement is evaluated first.    \n",
    "If condition1 is True, the code block associated with if is executed.     \n",
    "If condition1 is False, the program proceeds to the next condition.     \n",
    "\n",
    "elif (Else If) Statement:        \n",
    "we can have one or more elif statements following the if statement.  \n",
    "Each elif condition is checked in order.      \n",
    "The first elif condition that evaluates to True will have its code block executed.     \n",
    "If an elif condition is True, the subsequent elif and else blocks are skipped.   \n",
    "\n",
    "else Statement:   \n",
    "The else block is optional.    \n",
    "It is executed if none of the preceding if or elif conditions are True.  "
   ]
  },
  {
   "cell_type": "markdown",
   "id": "faf98ce2-ab43-4890-a09a-2d6fb8e1cdad",
   "metadata": {},
   "source": [
    "* EXAMPLES "
   ]
  },
  {
   "cell_type": "code",
   "execution_count": 1,
   "id": "f08e9041-2b6d-4baf-bc02-6faa01c49221",
   "metadata": {},
   "outputs": [
    {
     "name": "stdout",
     "output_type": "stream",
     "text": [
      "Grade: B\n"
     ]
    }
   ],
   "source": [
    "score = 85\n",
    "\n",
    "if score >= 90:\n",
    "    print(\"Grade: A\")\n",
    "elif score >= 80:\n",
    "    print(\"Grade: B\")\n",
    "elif score >= 70:\n",
    "    print(\"Grade: C\")\n",
    "elif score >= 60:\n",
    "    print(\"Grade: D\")\n",
    "else:\n",
    "    print(\"Grade: F\")"
   ]
  },
  {
   "cell_type": "code",
   "execution_count": 2,
   "id": "f09c5083-bd4c-4b60-a1e5-d91c0936889f",
   "metadata": {},
   "outputs": [
    {
     "name": "stdout",
     "output_type": "stream",
     "text": [
      "a and b are equal\n"
     ]
    }
   ],
   "source": [
    "a = 33\n",
    "b = 33\n",
    "if b > a:\n",
    "  print(\"b is greater than a\")\n",
    "elif a == b:\n",
    "  print(\"a and b are equal\")"
   ]
  },
  {
   "cell_type": "code",
   "execution_count": 3,
   "id": "a822d209-18d3-484c-acc1-e08b3b1a3073",
   "metadata": {},
   "outputs": [
    {
     "name": "stdout",
     "output_type": "stream",
     "text": [
      "a is greater than b\n"
     ]
    }
   ],
   "source": [
    "a = 200\n",
    "b = 33\n",
    "if b > a:\n",
    "  print(\"b is greater than a\")\n",
    "elif a == b:\n",
    "  print(\"a and b are equal\")\n",
    "else:\n",
    "  print(\"a is greater than b\")"
   ]
  },
  {
   "cell_type": "code",
   "execution_count": 4,
   "id": "bc4313a1-e48a-428c-81bd-fc222c4c800a",
   "metadata": {},
   "outputs": [
    {
     "name": "stdout",
     "output_type": "stream",
     "text": [
      "The number is negative.\n"
     ]
    }
   ],
   "source": [
    "number = -10\n",
    "\n",
    "if number > 0:\n",
    "    print(\"The number is positive.\")\n",
    "elif number < 0:\n",
    "    print(\"The number is negative.\")\n",
    "else:\n",
    "    print(\"The number is zero.\")"
   ]
  },
  {
   "cell_type": "code",
   "execution_count": 1,
   "id": "c487364d-9598-409c-9c2e-82b54f2c0250",
   "metadata": {},
   "outputs": [
    {
     "name": "stdin",
     "output_type": "stream",
     "text": [
      "Enter the total amount of your purchase: $ 699\n"
     ]
    },
    {
     "name": "stdout",
     "output_type": "stream",
     "text": [
      "The final amount after discount is: $559.20\n"
     ]
    }
   ],
   "source": [
    "def calculate_discount(total_amount):\n",
    "    if total_amount > 500:\n",
    "        discount = 0.20  # 20% discount\n",
    "    elif total_amount > 200:\n",
    "        discount = 0.10  # 10% discount\n",
    "    elif total_amount > 100:\n",
    "        discount = 0.05  # 5% discount\n",
    "    else:\n",
    "        discount = 0.00  # No discount\n",
    "\n",
    "    return total_amount - (total_amount * discount)\n",
    "# Example usage\n",
    "total_amount = float(input(\"Enter the total amount of your purchase: $\"))\n",
    "final_amount = calculate_discount(total_amount)\n",
    "\n",
    "print(f\"The final amount after discount is: ${final_amount:.2f}\")"
   ]
  },
  {
   "cell_type": "code",
   "execution_count": 3,
   "id": "5c224116-e34d-48a9-9e8a-a7d41cc25aae",
   "metadata": {},
   "outputs": [
    {
     "name": "stdin",
     "output_type": "stream",
     "text": [
      "Enter your age:  22\n"
     ]
    },
    {
     "name": "stdout",
     "output_type": "stream",
     "text": [
      "The ticket price is: $10\n"
     ]
    }
   ],
   "source": [
    "def ticket_price(age):\n",
    "    if age <= 12:\n",
    "        price = 5  \n",
    "    elif age <= 18:\n",
    "        price = 7 \n",
    "    elif age <= 60:\n",
    "        price = 10 \n",
    "    else:\n",
    "        price = 6 \n",
    "    return price\n",
    "# Example usage\n",
    "age = int(input(\"Enter your age: \"))\n",
    "price = ticket_price(age)\n",
    "print(f\"The ticket price is: ${price}\")"
   ]
  },
  {
   "cell_type": "code",
   "execution_count": 4,
   "id": "855e5cf4-b10e-44b6-a5d5-c0f1c389c61d",
   "metadata": {},
   "outputs": [
    {
     "name": "stdin",
     "output_type": "stream",
     "text": [
      "Enter the current temperature (°C):  45\n"
     ]
    },
    {
     "name": "stdout",
     "output_type": "stream",
     "text": [
      "Suggestion: Wear light clothing\n"
     ]
    }
   ],
   "source": [
    "def clothing_suggestion(temperature):\n",
    "    if temperature >= 30:\n",
    "        suggestion = 'Wear light clothing'\n",
    "    elif temperature >= 20:\n",
    "        suggestion = 'Wear a t-shirt and jeans'\n",
    "    elif temperature >= 10:\n",
    "        suggestion = 'Wear a sweater'\n",
    "    else:\n",
    "        suggestion = 'Wear a coat and scarf'\n",
    "    return suggestion\n",
    "# Example usage\n",
    "temperature = float(input(\"Enter the current temperature (°C): \"))\n",
    "suggestion = clothing_suggestion(temperature)\n",
    "print(f\"Suggestion: {suggestion}\")"
   ]
  },
  {
   "cell_type": "code",
   "execution_count": 5,
   "id": "10bdc130-8c0e-4aee-9203-ebbb446f6c74",
   "metadata": {},
   "outputs": [
    {
     "name": "stdin",
     "output_type": "stream",
     "text": [
      "Enter years of service:  20\n"
     ]
    },
    {
     "name": "stdout",
     "output_type": "stream",
     "text": [
      "The bonus is: $1000\n"
     ]
    }
   ],
   "source": [
    "def calculate_bonus(years_of_service):\n",
    "    if years_of_service >= 10:\n",
    "        bonus = 1000\n",
    "    elif years_of_service >= 5:\n",
    "        bonus = 500\n",
    "    elif years_of_service >= 3:\n",
    "        bonus = 250\n",
    "    else:\n",
    "        bonus = 100\n",
    "    return bonus\n",
    "\n",
    "# Example usage\n",
    "years_of_service = int(input(\"Enter years of service: \"))\n",
    "bonus = calculate_bonus(years_of_service)\n",
    "print(f\"The bonus is: ${bonus}\")"
   ]
  },
  {
   "cell_type": "code",
   "execution_count": 6,
   "id": "b07e69a7-0c39-4067-934b-1ae5acb00328",
   "metadata": {},
   "outputs": [
    {
     "name": "stdin",
     "output_type": "stream",
     "text": [
      "Enter the traffic light color (green, yellow, red):  red\n"
     ]
    },
    {
     "name": "stdout",
     "output_type": "stream",
     "text": [
      "The action is: Stop\n"
     ]
    }
   ],
   "source": [
    "def traffic_light_action(light_color):\n",
    "    if light_color == 'green':\n",
    "        action = 'Go'\n",
    "    elif light_color == 'yellow':\n",
    "        action = 'Slow down'\n",
    "    elif light_color == 'red':\n",
    "        action = 'Stop'\n",
    "    else:\n",
    "        action = 'Invalid color'\n",
    "    return action\n",
    "\n",
    "# Example usage\n",
    "light_color = input(\"Enter the traffic light color (green, yellow, red): \").lower()\n",
    "action = traffic_light_action(light_color)\n",
    "print(f\"The action is: {action}\")"
   ]
  },
  {
   "cell_type": "code",
   "execution_count": 7,
   "id": "a79925c5-937f-4918-bcdb-0e7a97f30c21",
   "metadata": {},
   "outputs": [
    {
     "name": "stdin",
     "output_type": "stream",
     "text": [
      "Enter the total amount of your order: $ 39\n",
      "Is the shipping international? (yes/no):  yes\n"
     ]
    },
    {
     "name": "stdout",
     "output_type": "stream",
     "text": [
      "The shipping cost is: $50\n"
     ]
    }
   ],
   "source": [
    "def calculate_shipping_cost(order_total, is_international):\n",
    "    if is_international:\n",
    "        if order_total > 100:\n",
    "            shipping_cost = 15\n",
    "        elif order_total > 50:\n",
    "            shipping_cost = 25\n",
    "        else:\n",
    "            shipping_cost = 50\n",
    "    else:\n",
    "        if order_total > 100:\n",
    "            shipping_cost = 0\n",
    "        elif order_total > 50:\n",
    "            shipping_cost = 5\n",
    "        else:\n",
    "            shipping_cost = 10\n",
    "    \n",
    "    return shipping_cost\n",
    "# Example usage\n",
    "order_total = float(input(\"Enter the total amount of your order: $\"))\n",
    "is_international = input(\"Is the shipping international? (yes/no): \").strip().lower() == 'yes'\n",
    "\n",
    "shipping_cost = calculate_shipping_cost(order_total, is_international)\n",
    "print(f\"The shipping cost is: ${shipping_cost}\")"
   ]
  }
 ],
 "metadata": {
  "kernelspec": {
   "display_name": "Python 3 (ipykernel)",
   "language": "python",
   "name": "python3"
  },
  "language_info": {
   "codemirror_mode": {
    "name": "ipython",
    "version": 3
   },
   "file_extension": ".py",
   "mimetype": "text/x-python",
   "name": "python",
   "nbconvert_exporter": "python",
   "pygments_lexer": "ipython3",
   "version": "3.11.7"
  }
 },
 "nbformat": 4,
 "nbformat_minor": 5
}

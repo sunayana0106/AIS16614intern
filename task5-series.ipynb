{
 "cells": [
  {
   "cell_type": "markdown",
   "id": "509325ce-fcc8-421f-ba5b-3d5a4b2104d6",
   "metadata": {},
   "source": [
    "# Pandas library"
   ]
  },
  {
   "cell_type": "markdown",
   "id": "97d5ca48-dda0-4278-adf3-65f669370363",
   "metadata": {},
   "source": [
    "* Pandas is a Python library.             \n",
    "* \r\n",
    "Pandas is used to analyze dat            \n",
    "* It is particularly well-suited for handling structured data (such as tabular data) and provides numerous functions and methods for data wrangling, transformation, and visualization.\n",
    "              \n",
    "# Uses of Pandas\n",
    "* Pandas allows us to analyze big data and make conclusions based on statistical theories.\n",
    "* Pandas can clean messy data sets, and make them readable and relevant.         a."
   ]
  },
  {
   "cell_type": "markdown",
   "id": "69b1a2be-3ba2-4316-803c-bccc3f4057a6",
   "metadata": {},
   "source": [
    "# Pandas Series        \n",
    "* A Pandas Series is like a column in a table.\n",
    "* \r\n",
    "It is a one-dimensional array holding data of any typ\n",
    "* Creating a Pandas Series is straightforward and can be done in several ways depending on the data source and desired characteristics of the Series.        e."
   ]
  },
  {
   "cell_type": "markdown",
   "id": "ac333ce7-9cf3-4c9b-a0c3-8aa4b3e5d25e",
   "metadata": {},
   "source": [
    "* Pandas series creation"
   ]
  },
  {
   "cell_type": "code",
   "execution_count": 1,
   "id": "abef4f6a-7983-4dd3-96b4-21a69f8fbe61",
   "metadata": {},
   "outputs": [
    {
     "name": "stdout",
     "output_type": "stream",
     "text": [
      "0    1\n",
      "1    2\n",
      "2    3\n",
      "3    4\n",
      "4    5\n",
      "dtype: int64\n"
     ]
    }
   ],
   "source": [
    "# 1. Creating a Series from a List\n",
    "# The list elements become the values of the Series.\n",
    "import pandas as pd\n",
    "\n",
    "data = [1, 2, 3, 4, 5]\n",
    "series = pd.Series(data)\n",
    "print(series)"
   ]
  },
  {
   "cell_type": "code",
   "execution_count": 2,
   "id": "0f0e7bf5-fd8e-4fef-adbc-f16e34b3225f",
   "metadata": {},
   "outputs": [
    {
     "name": "stdout",
     "output_type": "stream",
     "text": [
      "a    1\n",
      "b    2\n",
      "c    3\n",
      "dtype: int64\n"
     ]
    }
   ],
   "source": [
    "#Creating a Series from a Dictionary\n",
    "# When creating a Series from a dictionary, the keys become the index, and the values become the Series values.\n",
    "data = {'a': 1, 'b': 2, 'c': 3}\n",
    "series = pd.Series(data)\n",
    "print(series)"
   ]
  },
  {
   "cell_type": "code",
   "execution_count": 3,
   "id": "c9c8ca59-a49a-4821-b3ad-5571a0dd0e0d",
   "metadata": {},
   "outputs": [
    {
     "name": "stdout",
     "output_type": "stream",
     "text": [
      "a    10\n",
      "b    10\n",
      "c    10\n",
      "d    10\n",
      "dtype: int64\n"
     ]
    }
   ],
   "source": [
    "# Creating a Series from a Scalar Value\n",
    "# To create a Series with a single value repeated across a specified index.\n",
    "scalar_value = 10\n",
    "index = ['a', 'b', 'c', 'd']\n",
    "series = pd.Series(scalar_value, index=index)\n",
    "print(series)"
   ]
  },
  {
   "cell_type": "code",
   "execution_count": 4,
   "id": "b0dc7e40-524d-49ad-bb36-718fd592a797",
   "metadata": {},
   "outputs": [
    {
     "name": "stdout",
     "output_type": "stream",
     "text": [
      "a    10\n",
      "b    20\n",
      "c    30\n",
      "d    40\n",
      "dtype: int64\n"
     ]
    }
   ],
   "source": [
    "# Creating a Series with Custom Index\n",
    "# You can specify a custom index when creating a Series from a list.\n",
    "data = [10, 20, 30, 40]\n",
    "index = ['a', 'b', 'c', 'd']\n",
    "series = pd.Series(data, index=index)\n",
    "print(series)"
   ]
  },
  {
   "cell_type": "code",
   "execution_count": 5,
   "id": "5af62d9b-01ee-498d-aa06-54fd2d43ad49",
   "metadata": {},
   "outputs": [
    {
     "name": "stdout",
     "output_type": "stream",
     "text": [
      "0    10\n",
      "1    20\n",
      "2    30\n",
      "3    40\n",
      "dtype: int32\n"
     ]
    }
   ],
   "source": [
    "#Creating a Series from a NumPy Array\n",
    "#If you have numerical data in a NumPy array, you can convert it to a Series.\n",
    "import numpy as np\n",
    "data = np.array([10, 20, 30, 40])\n",
    "series = pd.Series(data)\n",
    "print(series)"
   ]
  },
  {
   "cell_type": "markdown",
   "id": "1f769976-23e7-4085-badf-372a3849720c",
   "metadata": {},
   "source": [
    "* Series operations"
   ]
  },
  {
   "cell_type": "code",
   "execution_count": 6,
   "id": "627bf25d-d717-4953-927a-9cb36489c3d7",
   "metadata": {},
   "outputs": [
    {
     "name": "stdout",
     "output_type": "stream",
     "text": [
      "Addition:\n",
      " 0    11\n",
      "1    22\n",
      "2    33\n",
      "3    44\n",
      "4    55\n",
      "dtype: int64\n",
      "Subtraction:\n",
      " 0    -9\n",
      "1   -18\n",
      "2   -27\n",
      "3   -36\n",
      "4   -45\n",
      "dtype: int64\n",
      "Multiplication:\n",
      " 0     10\n",
      "1     40\n",
      "2     90\n",
      "3    160\n",
      "4    250\n",
      "dtype: int64\n",
      "Division:\n",
      " 0    0.1\n",
      "1    0.1\n",
      "2    0.1\n",
      "3    0.1\n",
      "4    0.1\n",
      "dtype: float64\n",
      "Scalar Addition:\n",
      " 0    11\n",
      "1    12\n",
      "2    13\n",
      "3    14\n",
      "4    15\n",
      "dtype: int64\n"
     ]
    }
   ],
   "source": [
    "#Arithmetic Operations\n",
    "import pandas as pd\n",
    "\n",
    "# Create two Series\n",
    "s1 = pd.Series([1, 2, 3, 4, 5])\n",
    "s2 = pd.Series([10, 20, 30, 40, 50])\n",
    "\n",
    "# Addition\n",
    "result_add = s1 + s2\n",
    "print(\"Addition:\\n\", result_add)\n",
    "\n",
    "# Subtraction\n",
    "result_sub = s1 - s2\n",
    "print(\"Subtraction:\\n\", result_sub)\n",
    "\n",
    "# Multiplication\n",
    "result_mul = s1 * s2\n",
    "print(\"Multiplication:\\n\", result_mul)\n",
    "\n",
    "# Division\n",
    "result_div = s1 / s2\n",
    "print(\"Division:\\n\", result_div)\n",
    "\n",
    "# Scalar addition\n",
    "result_scalar_add = s1 + 10\n",
    "print(\"Scalar Addition:\\n\", result_scalar_add)"
   ]
  },
  {
   "cell_type": "code",
   "execution_count": 7,
   "id": "32cafb49-2cb1-4472-89cd-0d3bc641825b",
   "metadata": {},
   "outputs": [
    {
     "name": "stdout",
     "output_type": "stream",
     "text": [
      "Mean: 3.0\n",
      "Sum: 15\n",
      "Median: 3.0\n",
      "Standard Deviation: 1.5811388300841898\n",
      "Min: 1 Max: 5\n"
     ]
    }
   ],
   "source": [
    "# Statistical Operations\n",
    "\n",
    "# Create a Series\n",
    "s = pd.Series([1, 2, 3, 4, 5])\n",
    "\n",
    "# Mean\n",
    "mean_val = s.mean()\n",
    "print(\"Mean:\", mean_val)\n",
    "\n",
    "# Sum\n",
    "sum_val = s.sum()\n",
    "print(\"Sum:\", sum_val)\n",
    "\n",
    "# Median\n",
    "median_val = s.median()\n",
    "print(\"Median:\", median_val)\n",
    "\n",
    "# Standard Deviation\n",
    "std_val = s.std()\n",
    "print(\"Standard Deviation:\", std_val)\n",
    "\n",
    "# Minimum and Maximum\n",
    "min_val = s.min()\n",
    "max_val = s.max()\n",
    "print(\"Min:\", min_val, \"Max:\", max_val)"
   ]
  },
  {
   "cell_type": "code",
   "execution_count": 8,
   "id": "9d165db4-5e28-4cc0-96d5-180e7cc59dda",
   "metadata": {},
   "outputs": [
    {
     "name": "stdout",
     "output_type": "stream",
     "text": [
      "0    False\n",
      "1    False\n",
      "2     True\n",
      "3     True\n",
      "4     True\n",
      "dtype: bool\n"
     ]
    }
   ],
   "source": [
    "# logical operations\n",
    "import pandas as pd\n",
    "s = pd.Series([10, 20, 30, 40, 50])\n",
    "result = s > 25\n",
    "print(result)"
   ]
  },
  {
   "cell_type": "code",
   "execution_count": 9,
   "id": "943b4eeb-fe1d-4c27-96ee-35f9d2a2117a",
   "metadata": {},
   "outputs": [
    {
     "name": "stdout",
     "output_type": "stream",
     "text": [
      "0    False\n",
      "1    False\n",
      "2     True\n",
      "3     True\n",
      "4    False\n",
      "dtype: bool\n",
      "0     True\n",
      "1    False\n",
      "2    False\n",
      "3    False\n",
      "4     True\n",
      "dtype: bool\n",
      "0     True\n",
      "1     True\n",
      "2    False\n",
      "3    False\n",
      "4    False\n",
      "dtype: bool\n"
     ]
    }
   ],
   "source": [
    "# And &\n",
    "result = (s > 20) & (s < 50)\n",
    "print(result)\n",
    "\n",
    "# OR (|)\n",
    "result = (s < 20) | (s > 40)\n",
    "print(result)\n",
    "\n",
    "# NOT (~)\n",
    "result = ~(s > 20)\n",
    "print(result)"
   ]
  },
  {
   "cell_type": "code",
   "execution_count": null,
   "id": "78a09861-82aa-45da-a53f-8a07ef423d46",
   "metadata": {},
   "outputs": [],
   "source": []
  }
 ],
 "metadata": {
  "kernelspec": {
   "display_name": "Python 3 (ipykernel)",
   "language": "python",
   "name": "python3"
  },
  "language_info": {
   "codemirror_mode": {
    "name": "ipython",
    "version": 3
   },
   "file_extension": ".py",
   "mimetype": "text/x-python",
   "name": "python",
   "nbconvert_exporter": "python",
   "pygments_lexer": "ipython3",
   "version": "3.11.7"
  }
 },
 "nbformat": 4,
 "nbformat_minor": 5
}

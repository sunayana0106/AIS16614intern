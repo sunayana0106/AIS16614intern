{
 "cells": [
  {
   "cell_type": "markdown",
   "id": "769d2392-daec-49be-b273-bc1ba6c02baf",
   "metadata": {},
   "source": [
    "# If condition"
   ]
  },
  {
   "cell_type": "markdown",
   "id": "b43e8b9d-8bfa-4e77-a11a-6cad3c9a1357",
   "metadata": {},
   "source": [
    "* An \"if statement\" is written by using the if keyword.\n",
    "* An if statement is a condition statement used to check a condition, and execute it if the condition holds true."
   ]
  },
  {
   "cell_type": "markdown",
   "id": "f7adf575-6963-4899-8e2c-a9f1e3ddf4fc",
   "metadata": {},
   "source": [
    "* Syntax  \n",
    "  if condition:  \n",
    "  #body of if statement  \n",
    "\n",
    "Here, if the condition of the if statement is:   \n",
    "True  - the body of the if statement execute .   \n",
    "False - the body of the if statement is skipped from execution  \n"
   ]
  },
  {
   "cell_type": "markdown",
   "id": "b84c65d7-89c3-430b-b9e2-0b3f289700d2",
   "metadata": {},
   "source": [
    "* EXAMPLES"
   ]
  },
  {
   "cell_type": "code",
   "execution_count": 1,
   "id": "cb739fd6-7c91-479e-9be6-ecfa0784e472",
   "metadata": {},
   "outputs": [
    {
     "name": "stdout",
     "output_type": "stream",
     "text": [
      "b is greater than a\n"
     ]
    }
   ],
   "source": [
    "a = 5\n",
    "b = 67\n",
    "if b > a:\n",
    "  print(\"b is greater than a\")"
   ]
  },
  {
   "cell_type": "code",
   "execution_count": 2,
   "id": "eed200e2-e7fc-4974-b3ec-5cae176923c4",
   "metadata": {},
   "outputs": [
    {
     "name": "stdout",
     "output_type": "stream",
     "text": [
      "a is positive number\n"
     ]
    }
   ],
   "source": [
    "a=10\n",
    "if a>0:\n",
    "    print(\"a is positive number\")"
   ]
  },
  {
   "cell_type": "code",
   "execution_count": 9,
   "id": "903b302c-a8b7-403b-b184-188bc09bcfb4",
   "metadata": {},
   "outputs": [
    {
     "name": "stdout",
     "output_type": "stream",
     "text": [
      "a is even number\n"
     ]
    }
   ],
   "source": [
    "a=28\n",
    "if a%2==0:\n",
    "\n",
    "    print(\"a is even number\")"
   ]
  },
  {
   "cell_type": "code",
   "execution_count": 15,
   "id": "2f22efbe-27d6-499f-8de2-e3ac74732b8c",
   "metadata": {},
   "outputs": [
    {
     "name": "stdout",
     "output_type": "stream",
     "text": [
      "Pass\n"
     ]
    }
   ],
   "source": [
    "marks=95\n",
    "if marks>=35:\n",
    "    print(\"Pass\")               "
   ]
  },
  {
   "cell_type": "code",
   "execution_count": 18,
   "id": "35a97688-80cd-450c-9cd7-b544b0c011af",
   "metadata": {},
   "outputs": [
    {
     "name": "stdout",
     "output_type": "stream",
     "text": [
      "a is equal to b\n"
     ]
    }
   ],
   "source": [
    "a=45\n",
    "b=45\n",
    "if a==b:\n",
    "    print(\"a is equal to b\")"
   ]
  },
  {
   "cell_type": "code",
   "execution_count": 24,
   "id": "03b015be-94ca-4eb2-90b5-b518cfa3b3be",
   "metadata": {},
   "outputs": [
    {
     "name": "stdin",
     "output_type": "stream",
     "text": [
      "Enter a letter: a\n"
     ]
    },
    {
     "name": "stdout",
     "output_type": "stream",
     "text": [
      "given letter is vowel\n"
     ]
    }
   ],
   "source": [
    "x=[\"a\",\"e\",\"i\",\"o\",\"u\"]\n",
    "letter=str(input(\"Enter a letter:\"))\n",
    "if letter in x:\n",
    "    print(\"given letter is vowel\")"
   ]
  },
  {
   "cell_type": "code",
   "execution_count": 25,
   "id": "48412e15-4ec8-4446-ad3d-768064aae89b",
   "metadata": {},
   "outputs": [
    {
     "name": "stdout",
     "output_type": "stream",
     "text": [
      "Both the conditions are true\n"
     ]
    }
   ],
   "source": [
    "a=37\n",
    "b=59\n",
    "c=39\n",
    "if a<b and c<b:\n",
    "    print(\"Both the conditions are true\")"
   ]
  },
  {
   "cell_type": "code",
   "execution_count": 27,
   "id": "cccd808d-9591-4221-8677-7be2bf0b5ec7",
   "metadata": {},
   "outputs": [
    {
     "name": "stdin",
     "output_type": "stream",
     "text": [
      "enter your mobile number: 9960268274\n"
     ]
    },
    {
     "name": "stdout",
     "output_type": "stream",
     "text": [
      "Valid Mobile Number\n"
     ]
    }
   ],
   "source": [
    "no=(input(\"enter your mobile number:\"))\n",
    "if len(no)==10:\n",
    "    print(\"Valid Mobile Number\")"
   ]
  },
  {
   "cell_type": "code",
   "execution_count": 28,
   "id": "1f57686f-9c4f-4957-92b7-510015c40026",
   "metadata": {},
   "outputs": [
    {
     "name": "stdin",
     "output_type": "stream",
     "text": [
      "Enter your marks: 76\n"
     ]
    },
    {
     "name": "stdout",
     "output_type": "stream",
     "text": [
      "you are Pass with distinction\n"
     ]
    }
   ],
   "source": [
    "marks=int(input(\"Enter your marks:\"))\n",
    "if marks>=75:\n",
    "    print(\"you are Pass with distinction\")     "
   ]
  },
  {
   "cell_type": "code",
   "execution_count": 29,
   "id": "80e4c0c6-5aa7-4772-aef1-5ea135ea325a",
   "metadata": {},
   "outputs": [
    {
     "name": "stdin",
     "output_type": "stream",
     "text": [
      "enter any number: 45\n",
      "enter any number: 20\n"
     ]
    },
    {
     "name": "stdout",
     "output_type": "stream",
     "text": [
      "first number is not divisible by second number\n"
     ]
    }
   ],
   "source": [
    "no1=int(input(\"enter any number:\"))\n",
    "no2=int(input(\"enter any number:\"))\n",
    "if no1%no2!=0:\n",
    "    print(\"first number is not divisible by second number\")"
   ]
  }
 ],
 "metadata": {
  "kernelspec": {
   "display_name": "Python 3 (ipykernel)",
   "language": "python",
   "name": "python3"
  },
  "language_info": {
   "codemirror_mode": {
    "name": "ipython",
    "version": 3
   },
   "file_extension": ".py",
   "mimetype": "text/x-python",
   "name": "python",
   "nbconvert_exporter": "python",
   "pygments_lexer": "ipython3",
   "version": "3.11.7"
  }
 },
 "nbformat": 4,
 "nbformat_minor": 5
}

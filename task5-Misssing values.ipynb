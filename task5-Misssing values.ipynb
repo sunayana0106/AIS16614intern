{
 "cells": [
  {
   "cell_type": "markdown",
   "id": "4fad8035-a59e-4178-b61a-9d34cbe9ff8b",
   "metadata": {},
   "source": [
    "# Missing values analysis in Pandas"
   ]
  },
  {
   "cell_type": "code",
   "execution_count": 1,
   "id": "accdb741-f313-4290-b8f9-d933468be108",
   "metadata": {},
   "outputs": [
    {
     "name": "stdout",
     "output_type": "stream",
     "text": [
      "     A    B    C\n",
      "0  1.0  NaN  1.0\n",
      "1  2.0  2.0  NaN\n",
      "2  NaN  3.0  NaN\n",
      "3  4.0  4.0  4.0\n"
     ]
    }
   ],
   "source": [
    "import pandas as pd\n",
    "import numpy as np\n",
    "data = {\n",
    "    'A': [1, 2, np.nan, 4],\n",
    "    'B': [np.nan, 2, 3, 4],\n",
    "    'C': [1, np.nan, np.nan, 4]\n",
    "}\n",
    "df = pd.DataFrame(data)\n",
    "print(df)"
   ]
  },
  {
   "cell_type": "markdown",
   "id": "91972371-c7f2-4f2b-a20a-8bf0478908cf",
   "metadata": {},
   "source": [
    "* Checking for Missing Values           \n",
    "1. isnull() : The isnull() function returns a DataFrame of the same shape as the original, with True for missing values and False for non-missing values.    \n",
    "2. notnull() : notnull() returns True for non-missing values and False for missing values.python\n"
   ]
  },
  {
   "cell_type": "code",
   "execution_count": 2,
   "id": "08e73b53-07a3-41db-8796-740dd5e09897",
   "metadata": {},
   "outputs": [
    {
     "name": "stdout",
     "output_type": "stream",
     "text": [
      "       A      B      C\n",
      "0  False   True  False\n",
      "1  False  False   True\n",
      "2   True  False   True\n",
      "3  False  False  False\n"
     ]
    }
   ],
   "source": [
    "# 1.\n",
    "missing_values = df.isnull()\n",
    "print(missing_values)"
   ]
  },
  {
   "cell_type": "code",
   "execution_count": 3,
   "id": "b7a1392b-bc81-485d-a32d-eb8ef8da8690",
   "metadata": {},
   "outputs": [
    {
     "name": "stdout",
     "output_type": "stream",
     "text": [
      "       A      B      C\n",
      "0   True  False   True\n",
      "1   True   True  False\n",
      "2  False   True  False\n",
      "3   True   True   True\n"
     ]
    }
   ],
   "source": [
    "# 2.\n",
    "non_missing_values = df.notnull()\n",
    "print(non_missing_values)"
   ]
  },
  {
   "cell_type": "code",
   "execution_count": 4,
   "id": "7357806c-d188-40fb-8537-2ca7a0dfcc33",
   "metadata": {},
   "outputs": [
    {
     "name": "stdout",
     "output_type": "stream",
     "text": [
      "       A      B      C\n",
      "0  False   True  False\n",
      "1  False  False   True\n",
      "2   True  False   True\n",
      "3  False  False  False\n"
     ]
    }
   ],
   "source": [
    "# isna() and notna()\n",
    "# isna() is an alias for isnull(), and notna() is an alias for notnull().\n",
    "\n",
    "missing_values = df.isna()\n",
    "print(missing_values)"
   ]
  },
  {
   "cell_type": "code",
   "execution_count": 5,
   "id": "fe00f03d-3a87-4e64-88bc-8f565d208bf3",
   "metadata": {},
   "outputs": [
    {
     "name": "stdout",
     "output_type": "stream",
     "text": [
      "<class 'pandas.core.frame.DataFrame'>\n",
      "RangeIndex: 4 entries, 0 to 3\n",
      "Data columns (total 3 columns):\n",
      " #   Column  Non-Null Count  Dtype  \n",
      "---  ------  --------------  -----  \n",
      " 0   A       3 non-null      float64\n",
      " 1   B       3 non-null      float64\n",
      " 2   C       2 non-null      float64\n",
      "dtypes: float64(3)\n",
      "memory usage: 228.0 bytes\n"
     ]
    }
   ],
   "source": [
    "# info()\n",
    "# The info() method provides a concise summary of the DataFrame, including the number of non-null values per column.\n",
    "df.info()"
   ]
  },
  {
   "cell_type": "markdown",
   "id": "0a94d964-4efd-4ca9-b016-d6ad14f24d05",
   "metadata": {},
   "source": [
    "* Handling Missing Values\n",
    "1. Dropping Missing Values\n",
    "   * To drop rows with any missing values, use dropna():\n",
    "   * To drop columns with any missing values, use dropna() with axis parameter"
   ]
  },
  {
   "cell_type": "code",
   "execution_count": 6,
   "id": "40644687-2cbb-43e8-aa88-c094bfe2cda8",
   "metadata": {},
   "outputs": [
    {
     "name": "stdout",
     "output_type": "stream",
     "text": [
      "     A    B    C\n",
      "3  4.0  4.0  4.0\n"
     ]
    }
   ],
   "source": [
    "# Drop rows with missing values\n",
    "df_dropped_rows = df.dropna()\n",
    "print(df_dropped_rows)"
   ]
  },
  {
   "cell_type": "code",
   "execution_count": 7,
   "id": "e2965164-e9a5-4084-8fa0-d90c32fc6703",
   "metadata": {},
   "outputs": [
    {
     "name": "stdout",
     "output_type": "stream",
     "text": [
      "Empty DataFrame\n",
      "Columns: []\n",
      "Index: [0, 1, 2, 3]\n"
     ]
    }
   ],
   "source": [
    "# Drop columns with missing values\n",
    "df_dropped_columns = df.dropna(axis=1)\n",
    "print(df_dropped_columns)"
   ]
  },
  {
   "cell_type": "markdown",
   "id": "f73787e9-fda8-41e2-81ed-b7bd59fa766d",
   "metadata": {},
   "source": [
    "* fil missing value (mean, median)"
   ]
  },
  {
   "cell_type": "code",
   "execution_count": 10,
   "id": "4190606d-96dd-4578-824f-c54a18a01636",
   "metadata": {},
   "outputs": [
    {
     "name": "stdout",
     "output_type": "stream",
     "text": [
      "     A    B    C\n",
      "0  1.0  NaN  1.0\n",
      "1  2.0  2.0  NaN\n",
      "2  NaN  3.0  NaN\n",
      "3  4.0  4.0  4.0\n",
      "4  5.0  NaN  5.0\n",
      "     A    B         C\n",
      "0  1.0  3.0  1.000000\n",
      "1  2.0  2.0  3.333333\n",
      "2  3.0  3.0  3.333333\n",
      "3  4.0  4.0  4.000000\n",
      "4  5.0  3.0  5.000000\n"
     ]
    }
   ],
   "source": [
    "import pandas as pd\n",
    "import numpy as np\n",
    "data = {\n",
    "    'A': [1, 2, np.nan, 4, 5],\n",
    "    'B': [np.nan, 2, 3, 4, np.nan],\n",
    "    'C': [1, np.nan, np.nan, 4, 5]\n",
    "}\n",
    "df = pd.DataFrame(data)\n",
    "print(df)\n",
    "\n",
    "# Filling Missing Values with Mean\n",
    "# To fill missing values with the mean of the column, you can use the fillna() method with the mean() function:\n",
    "\n",
    "df_filled_mean = df.copy()\n",
    "df_filled_mean['A'] = df['A'].fillna(df['A'].mean())\n",
    "df_filled_mean['B'] = df['B'].fillna(df['B'].mean())\n",
    "df_filled_mean['C'] = df['C'].fillna(df['C'].mean())\n",
    "\n",
    "print(df_filled_mean)"
   ]
  },
  {
   "cell_type": "code",
   "execution_count": 11,
   "id": "86430f96-08f5-48a7-ac0c-8dda36ecb7f2",
   "metadata": {},
   "outputs": [
    {
     "name": "stdout",
     "output_type": "stream",
     "text": [
      "     A    B    C\n",
      "0  1.0  3.0  1.0\n",
      "1  2.0  2.0  4.0\n",
      "2  3.0  3.0  4.0\n",
      "3  4.0  4.0  4.0\n",
      "4  5.0  3.0  5.0\n"
     ]
    }
   ],
   "source": [
    "# Filling Missing Values with Median\n",
    "# To fill missing values with the median of the column, you can use the fillna() method with the median() function:\n",
    "\n",
    "df_filled_median = df.copy()\n",
    "df_filled_median['A'] = df['A'].fillna(df['A'].median())\n",
    "df_filled_median['B'] = df['B'].fillna(df['B'].median())\n",
    "df_filled_median['C'] = df['C'].fillna(df['C'].median())\n",
    "\n",
    "print(df_filled_median)"
   ]
  },
  {
   "cell_type": "code",
   "execution_count": null,
   "id": "19bc01f4-ca1c-492b-bfe3-5bfd9153b7f4",
   "metadata": {},
   "outputs": [],
   "source": []
  }
 ],
 "metadata": {
  "kernelspec": {
   "display_name": "Python 3 (ipykernel)",
   "language": "python",
   "name": "python3"
  },
  "language_info": {
   "codemirror_mode": {
    "name": "ipython",
    "version": 3
   },
   "file_extension": ".py",
   "mimetype": "text/x-python",
   "name": "python",
   "nbconvert_exporter": "python",
   "pygments_lexer": "ipython3",
   "version": "3.11.7"
  }
 },
 "nbformat": 4,
 "nbformat_minor": 5
}

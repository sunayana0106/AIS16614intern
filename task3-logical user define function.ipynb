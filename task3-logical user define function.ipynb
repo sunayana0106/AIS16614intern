{
 "cells": [
  {
   "cell_type": "markdown",
   "id": "c3ca8c81-af24-4eb3-afa3-d2b93799f18f",
   "metadata": {},
   "source": [
    "# Logical user define functions"
   ]
  },
  {
   "cell_type": "markdown",
   "id": "76e1b8b8-c5db-44be-9a21-360e4ca74113",
   "metadata": {},
   "source": [
    "* In Python, a user-defined function is a block of code that performs a specific task.        \n",
    "* Functions help to modularize code, making it reusable and easier to read and maintain      \n",
    "  * Syntax                  \n",
    "     def function_name(parameters):        \n",
    "    \"\"\"             \n",
    "    Optional docstring to describe what the function does.              \n",
    "    \"\"\"              \n",
    "    #Function body             \n",
    "    #Code to perform some task                   \n",
    "    return result  # Optional return statement          \n",
    "* Logical operations involve using logical operators to make decisions within functions. Common logical operators include and, or, and not. "
   ]
  },
  {
   "cell_type": "markdown",
   "id": "6378f9a6-e6bf-495f-ab1c-23fff0931e4f",
   "metadata": {},
   "source": [
    "* EXAMPLES"
   ]
  },
  {
   "cell_type": "code",
   "execution_count": 1,
   "id": "0ffe8fd0-9590-41c2-985b-fbe0fe58c475",
   "metadata": {},
   "outputs": [
    {
     "name": "stdout",
     "output_type": "stream",
     "text": [
      "True\n",
      "False\n"
     ]
    }
   ],
   "source": [
    "#Checking if a Number is Even\n",
    "def is_even(number):\n",
    "    \"\"\"\n",
    "    Check if a number is even.\n",
    "    \n",
    "    Parameters:\n",
    "    number (int): The number to check.\n",
    "    \n",
    "    Returns:\n",
    "    bool: True if the number is even, False otherwise.\n",
    "    \"\"\"\n",
    "    return number % 2 == 0\n",
    "print(is_even(4))  \n",
    "print(is_even(7))  "
   ]
  },
  {
   "cell_type": "code",
   "execution_count": 2,
   "id": "b4dcc3f5-1c50-407b-9946-728da6be2b94",
   "metadata": {},
   "outputs": [
    {
     "name": "stdout",
     "output_type": "stream",
     "text": [
      "True\n",
      "False\n"
     ]
    }
   ],
   "source": [
    "# Logical AND Operation\n",
    "def both_positive(a, b):\n",
    "    \"\"\"\n",
    "    Check if both numbers are positive.\n",
    "    \n",
    "    Parameters:\n",
    "    a (int): The first number.\n",
    "    b (int): The second number.\n",
    "    \n",
    "    Returns:\n",
    "    bool: True if both numbers are positive, False otherwise.\n",
    "    \"\"\"\n",
    "    return a > 0 and b > 0\n",
    "print(both_positive(3, 5))  # True\n",
    "print(both_positive(3, -5))  # False"
   ]
  },
  {
   "cell_type": "code",
   "execution_count": 3,
   "id": "a9bd34ea-f64c-4988-ae97-8759cc418f48",
   "metadata": {},
   "outputs": [
    {
     "name": "stdout",
     "output_type": "stream",
     "text": [
      "True\n",
      "False\n"
     ]
    }
   ],
   "source": [
    "# Logical OR Operation\n",
    "def one_or_both_positive(a, b):\n",
    "    \"\"\"\n",
    "    Check if at least one number is positive.\n",
    "    \n",
    "    Parameters:\n",
    "    a (int): The first number.\n",
    "    b (int): The second number.\n",
    "    \n",
    "    Returns:\n",
    "    bool: True if at least one number is positive, False otherwise.\n",
    "    \"\"\"\n",
    "    return a > 0 or b > 0\n",
    "print(one_or_both_positive(3, -5))  # True\n",
    "print(one_or_both_positive(-3, -5))  # False"
   ]
  },
  {
   "cell_type": "code",
   "execution_count": 4,
   "id": "b0beb361-5d19-4330-94e5-c7a42b2115ba",
   "metadata": {},
   "outputs": [
    {
     "name": "stdout",
     "output_type": "stream",
     "text": [
      "False\n",
      "True\n"
     ]
    }
   ],
   "source": [
    "# Logical NOT Operation\n",
    "def negate_boolean(value):\n",
    "    \"\"\"\n",
    "    Negate the boolean value.\n",
    "    \n",
    "    Parameters:\n",
    "    value (bool): The boolean value to negate.\n",
    "    \n",
    "    Returns:\n",
    "    bool: The negated boolean value.\n",
    "    \"\"\"\n",
    "    return not value\n",
    "print(negate_boolean(True))  # False\n",
    "print(negate_boolean(False))  # True"
   ]
  },
  {
   "cell_type": "code",
   "execution_count": 7,
   "id": "61b9057f-7eb7-430f-a346-de558beff614",
   "metadata": {},
   "outputs": [
    {
     "name": "stdout",
     "output_type": "stream",
     "text": [
      "True\n",
      "False\n"
     ]
    }
   ],
   "source": [
    "# Combining Logical Operators\n",
    "def is_in_range(number, start, end):\n",
    "    \"\"\"\n",
    "    Check if a number is within a range [start, end].\n",
    "    \n",
    "    Parameters:\n",
    "    number (int): The number to check.\n",
    "    start (int): The start of the range.\n",
    "    end (int): The end of the range.\n",
    "    \n",
    "    Returns:\n",
    "    bool: True if the number is within the range, False otherwise.\n",
    "    \"\"\"\n",
    "    return start <= number <= end\n",
    "print(is_in_range(5, 1, 10))  \n",
    "print(is_in_range(0, 1, 10))  "
   ]
  },
  {
   "cell_type": "code",
   "execution_count": 6,
   "id": "147c7dd2-4c0a-4656-9d05-c248b3198529",
   "metadata": {},
   "outputs": [
    {
     "name": "stdout",
     "output_type": "stream",
     "text": [
      "True\n",
      "False\n"
     ]
    }
   ],
   "source": [
    "# Logical Operations with Strings\n",
    "def contains_substrings(main_string, sub1, sub2):\n",
    "    \"\"\"\n",
    "    Check if the main string contains either of the two substrings.\n",
    "    \n",
    "    Parameters:\n",
    "    main_string (str): The main string to check.\n",
    "    sub1 (str): The first substring.\n",
    "    sub2 (str): The second substring.\n",
    "    \n",
    "    Returns:\n",
    "    bool: True if the main string contains either sub1 or sub2, False otherwise.\n",
    "    \"\"\"\n",
    "    return sub1 in main_string or sub2 in main_string\n",
    "print(contains_substrings(\"Hello, world!\", \"world\", \"Python\"))  \n",
    "print(contains_substrings(\"Hello, world!\", \"Python\", \"Java\"))  "
   ]
  },
  {
   "cell_type": "code",
   "execution_count": 8,
   "id": "5b3290eb-9d8f-4863-8a66-5dc31ff954ec",
   "metadata": {},
   "outputs": [
    {
     "name": "stdout",
     "output_type": "stream",
     "text": [
      "True\n",
      "True\n",
      "False\n",
      "False\n"
     ]
    }
   ],
   "source": [
    "# Complex Logical Expression\n",
    "def positive_even_or_negative_odd(number):\n",
    "    \"\"\"\n",
    "    Check if a number is positive even or negative odd.\n",
    "    \n",
    "    Parameters:\n",
    "    number (int): The number to check.\n",
    "    \n",
    "    Returns:\n",
    "    bool: True if the number is positive even or negative odd, False otherwise.\n",
    "    \"\"\"\n",
    "    return (number > 0 and number % 2 == 0) or (number < 0 and number % 2 != 0)\n",
    "print(positive_even_or_negative_odd(4))   \n",
    "print(positive_even_or_negative_odd(-3)) \n",
    "print(positive_even_or_negative_odd(5))   \n",
    "print(positive_even_or_negative_odd(-4)) "
   ]
  },
  {
   "cell_type": "code",
   "execution_count": 9,
   "id": "3fef6d6a-73e4-4c15-af32-e4c1e05b54d0",
   "metadata": {},
   "outputs": [
    {
     "name": "stdout",
     "output_type": "stream",
     "text": [
      "True\n",
      "False\n"
     ]
    }
   ],
   "source": [
    "#Checking for Prime Numbers\n",
    "def is_prime(number):\n",
    "    \"\"\"\n",
    "    Check if a number is prime.\n",
    "    \n",
    "    Parameters:\n",
    "    number (int): The number to check.\n",
    "    \n",
    "    Returns:\n",
    "    bool: True if the number is prime, False otherwise.\n",
    "    \"\"\"\n",
    "    if number <= 1:\n",
    "        return False\n",
    "    for i in range(2, int(number ** 0.5) + 1):\n",
    "        if number % i == 0:\n",
    "            return False\n",
    "    return True\n",
    "print(is_prime(7))  # True\n",
    "print(is_prime(10))  # False"
   ]
  },
  {
   "cell_type": "code",
   "execution_count": 10,
   "id": "3cc03828-47fc-4605-9dc1-f12e39fe3852",
   "metadata": {},
   "outputs": [
    {
     "name": "stdout",
     "output_type": "stream",
     "text": [
      "True\n",
      "False\n"
     ]
    }
   ],
   "source": [
    "# Password Strength Checker\n",
    "def is_strong_password(password):\n",
    "    \"\"\"\n",
    "    Check if a password is strong.\n",
    "    \n",
    "    Parameters:\n",
    "    password (str): The password to check.\n",
    "    \n",
    "    Returns:\n",
    "    bool: True if the password is strong, False otherwise.\n",
    "    \"\"\"\n",
    "    has_upper = any(char.isupper() for char in password)\n",
    "    has_lower = any(char.islower() for char in password)\n",
    "    has_digit = any(char.isdigit() for char in password)\n",
    "    has_special = any(char in \"!@#$%^&*()_+-=\" for char in password)\n",
    "    is_long_enough = len(password) >= 8\n",
    "    \n",
    "    return has_upper and has_lower and has_digit and has_special and is_long_enough\n",
    "print(is_strong_password(\"Aa1!bcdef\"))  # True\n",
    "print(is_strong_password(\"password\"))  # False"
   ]
  },
  {
   "cell_type": "code",
   "execution_count": 11,
   "id": "af87b64e-76d0-403f-8a8f-45c3604c9eca",
   "metadata": {},
   "outputs": [
    {
     "name": "stdout",
     "output_type": "stream",
     "text": [
      "7\n",
      "10\n"
     ]
    }
   ],
   "source": [
    "#Finding the Maximum of Three Numbers\n",
    "def max_of_three(a, b, c):\n",
    "    \"\"\"\n",
    "    Find the maximum of three numbers.\n",
    "    \n",
    "    Parameters:\n",
    "    a (int): The first number.\n",
    "    b (int): The second number.\n",
    "    c (int): The third number.\n",
    "    \n",
    "    Returns:\n",
    "    int: The maximum of the three numbers.\n",
    "    \"\"\"\n",
    "    if a >= b and a >= c:\n",
    "        return a\n",
    "    elif b >= a and b >= c:\n",
    "        return b\n",
    "    else:\n",
    "        return c\n",
    "print(max_of_three(3, 7, 5))  # 7\n",
    "print(max_of_three(10, 2, 8))  # 10"
   ]
  }
 ],
 "metadata": {
  "kernelspec": {
   "display_name": "Python 3 (ipykernel)",
   "language": "python",
   "name": "python3"
  },
  "language_info": {
   "codemirror_mode": {
    "name": "ipython",
    "version": 3
   },
   "file_extension": ".py",
   "mimetype": "text/x-python",
   "name": "python",
   "nbconvert_exporter": "python",
   "pygments_lexer": "ipython3",
   "version": "3.11.7"
  }
 },
 "nbformat": 4,
 "nbformat_minor": 5
}

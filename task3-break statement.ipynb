{
 "cells": [
  {
   "cell_type": "markdown",
   "id": "6cb32bb4-f32d-4045-ad88-3d0714fd67c1",
   "metadata": {},
   "source": [
    "# Break Statement"
   ]
  },
  {
   "cell_type": "markdown",
   "id": "63e2684d-cc6e-42d3-8f44-97e26ac816ea",
   "metadata": {},
   "source": [
    "* The break statement in Python is used to exit a loop prematurely. \n",
    "* This can be useful when you need to stop the loop based on a condition that occurs during its execution.  \n",
    "* It can be used in both for and while loops.\n",
    "* With the break statement we can stop the loop even if the while condition is true\n",
    "* With the break statement we can stop the loop before it has looped through all the items:(for loops)"
   ]
  },
  {
   "cell_type": "markdown",
   "id": "0400a664-58a8-4249-883f-6d49d9dd2f29",
   "metadata": {},
   "source": [
    "* Important Points:     \n",
    "1. Exiting the Loop Early: The break statement allows you to exit a loop early, based on some condition.        \n",
    "2. Single Loop Exit:       The break statement only exits the loop in which it is placed. In the case of nested loops, it will only terminate the                                     innermost loop.     \n",
    "3. Flow Control:           The break statement can be useful for optimizing the performance of your program by avoiding unnecessary iterations once a                                 required condition is met."
   ]
  },
  {
   "cell_type": "markdown",
   "id": "1b57a5e5-b4a5-4434-bc45-80b5e95520af",
   "metadata": {},
   "source": [
    "* Syntax                     \n",
    "        loop{      \n",
    "                condition:    \n",
    "                    break           \n",
    "             }      "
   ]
  },
  {
   "cell_type": "code",
   "execution_count": 1,
   "id": "ccd78cf6-8c68-4c46-bc84-b6bad305bf46",
   "metadata": {},
   "outputs": [
    {
     "name": "stdout",
     "output_type": "stream",
     "text": [
      "0\n",
      "1\n",
      "2\n",
      "3\n",
      "4\n"
     ]
    }
   ],
   "source": [
    "# Using break in a while loop\n",
    "count = 0\n",
    "\n",
    "while True:\n",
    "    print(count)\n",
    "    count += 1\n",
    "    if count >= 5:\n",
    "        break"
   ]
  },
  {
   "cell_type": "code",
   "execution_count": 2,
   "id": "9cc91f87-faac-478f-9d5b-75d77d20dd8d",
   "metadata": {},
   "outputs": [
    {
     "name": "stdout",
     "output_type": "stream",
     "text": [
      "apple\n",
      "banana\n"
     ]
    }
   ],
   "source": [
    "fruits = [\"apple\", \"banana\", \"cherry\"]\n",
    "for x in fruits:\n",
    "  print(x)\n",
    "  if x == \"banana\":\n",
    "    break"
   ]
  },
  {
   "cell_type": "code",
   "execution_count": 3,
   "id": "73ccd8b1-06f5-4d53-af42-2f3bc9115e93",
   "metadata": {},
   "outputs": [
    {
     "name": "stdout",
     "output_type": "stream",
     "text": [
      "1\n",
      "2\n",
      "3\n",
      "4\n",
      "Number found!\n"
     ]
    }
   ],
   "source": [
    "numbers = [1, 2, 3, 4, 5, 6, 7, 8, 9, 10]\n",
    "for num in numbers:\n",
    "    if num == 5:\n",
    "        print(\"Number found!\")\n",
    "        break\n",
    "    print(num)"
   ]
  },
  {
   "cell_type": "code",
   "execution_count": 4,
   "id": "04615a35-e9e6-42da-bb5f-9f7218bcb611",
   "metadata": {},
   "outputs": [
    {
     "name": "stdout",
     "output_type": "stream",
     "text": [
      "29 is a prime number.\n"
     ]
    }
   ],
   "source": [
    "number = 29\n",
    "is_prime = True\n",
    "\n",
    "for i in range(2, int(number**0.5) + 1):\n",
    "    if number % i == 0:\n",
    "        is_prime = False\n",
    "        break\n",
    "\n",
    "if is_prime:\n",
    "    print(f\"{number} is a prime number.\")\n",
    "else:\n",
    "    print(f\"{number} is not a prime number.\")"
   ]
  },
  {
   "cell_type": "code",
   "execution_count": 6,
   "id": "2a5a83b9-88bc-442b-9717-be604d33949d",
   "metadata": {},
   "outputs": [
    {
     "name": "stdout",
     "output_type": "stream",
     "text": [
      "apple\n",
      "banana\n"
     ]
    }
   ],
   "source": [
    "# break statement in for loops\n",
    "fruits = [\"apple\", \"banana\", \"cherry\"]\n",
    "for x in fruits:\n",
    "  print(x)\n",
    "  if x == \"banana\":\n",
    "    break"
   ]
  }
 ],
 "metadata": {
  "kernelspec": {
   "display_name": "Python 3 (ipykernel)",
   "language": "python",
   "name": "python3"
  },
  "language_info": {
   "codemirror_mode": {
    "name": "ipython",
    "version": 3
   },
   "file_extension": ".py",
   "mimetype": "text/x-python",
   "name": "python",
   "nbconvert_exporter": "python",
   "pygments_lexer": "ipython3",
   "version": "3.11.7"
  }
 },
 "nbformat": 4,
 "nbformat_minor": 5
}

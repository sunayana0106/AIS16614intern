{
 "cells": [
  {
   "cell_type": "markdown",
   "id": "b7254b2b-4f94-4d74-b031-c88bd5702a5d",
   "metadata": {},
   "source": [
    "# Pandas DataFrames"
   ]
  },
  {
   "cell_type": "markdown",
   "id": "2cd05eb4-3578-4b6a-b9e1-7295b0b696a3",
   "metadata": {},
   "source": [
    "* A Pandas DataFrame is a 2 dimensional data structure, like a 2 dimensional array, or a table with rows and columns.   \n",
    "* A Pandas DataFrame is a size-mutable, and potentially heterogeneous tabular data structure with labeled axes (rows and columns)"
   ]
  },
  {
   "cell_type": "code",
   "execution_count": 6,
   "id": "08b7f1cf-23d9-4989-bd2d-e7f66b7ceca7",
   "metadata": {},
   "outputs": [
    {
     "name": "stdout",
     "output_type": "stream",
     "text": [
      "   A  B  C\n",
      "0  1  2  3\n",
      "1  4  5  6\n",
      "2  7  8  9\n"
     ]
    }
   ],
   "source": [
    "# Creating a DataFrame from a Matrix\n",
    "# A matrix can be represented using a NumPy array or a list of lists. Here's how you can create a DataFrame from these structures.\n",
    "import pandas as pd\n",
    "import numpy as np\n",
    "# Create a NumPy array\n",
    "matrix = np.array([\n",
    "    [1, 2, 3],\n",
    "    [4, 5, 6],\n",
    "    [7, 8, 9]\n",
    "])\n",
    "\n",
    "# Create DataFrame from NumPy array\n",
    "df = pd.DataFrame(matrix, columns=['A', 'B', 'C'])\n",
    "print(df)"
   ]
  },
  {
   "cell_type": "code",
   "execution_count": 7,
   "id": "4b3f54a9-c7c7-4ec4-9360-a638ad51afa7",
   "metadata": {},
   "outputs": [
    {
     "name": "stdout",
     "output_type": "stream",
     "text": [
      "    Name  Age      City\n",
      "0   John   28  New York\n",
      "1   Anna   24     Paris\n",
      "2  Peter   35    Berlin\n",
      "3  Linda   32    London\n"
     ]
    }
   ],
   "source": [
    "# Creating a DataFrame from a Dictionary\n",
    "# You can create a DataFrame from a dictionary of lists or a dictionary of Series.\n",
    "\n",
    "data = {\n",
    "    'Name': ['John', 'Anna', 'Peter', 'Linda'],\n",
    "    'Age': [28, 24, 35, 32],\n",
    "    'City': ['New York', 'Paris', 'Berlin', 'London']\n",
    "}\n",
    "\n",
    "# Create DataFrame from dictionary of lists\n",
    "df = pd.DataFrame(data)\n",
    "print(df)"
   ]
  },
  {
   "cell_type": "markdown",
   "id": "daf22f73-9fd3-4815-b14d-db7e7c3a2ed6",
   "metadata": {},
   "source": [
    "* Reading a CSV File     \n",
    "     You can use the read_csv() function to read data from a CSV file into a DataFrame."
   ]
  },
  {
   "cell_type": "markdown",
   "id": "036c56ce-fffb-477a-83b5-4c016ef08be0",
   "metadata": {},
   "source": [
    "* Read CSV Files\n",
    "*  A simple way to store big data sets is to use CSV files (comma separated files).\n",
    "*  CSV files contains plain text and is a well know format that can be read by everyone including Pandas..csv'"
   ]
  },
  {
   "cell_type": "code",
   "execution_count": 10,
   "id": "2ddb12d1-2827-4da1-ba5f-53ade880d2b6",
   "metadata": {},
   "outputs": [
    {
     "name": "stdout",
     "output_type": "stream",
     "text": [
      "        Name   Age      City\n",
      "0     John      28  New york\n",
      "1     Anna      24     Paris\n",
      "2    Peter      35    Berlin\n",
      "3    Linda      32    London\n"
     ]
    }
   ],
   "source": [
    "#Load the CSV into a DataFrame:\n",
    "import pandas as pd\n",
    "df = pd.read_csv('C:/Users/SUNAYANA/OneDrive/Desktop/data.csv')\n",
    "print(df.to_string()) "
   ]
  },
  {
   "cell_type": "code",
   "execution_count": 12,
   "id": "4245118e-6ee5-451a-9eb2-9042f61a608c",
   "metadata": {},
   "outputs": [
    {
     "name": "stdout",
     "output_type": "stream",
     "text": [
      "           Name ,Age,City\n",
      "0     John   ,28,New york\n",
      "1        Anna   ,24,Paris\n",
      "2      Peter   ,35,Berlin\n",
      "3      Linda   ,32,London\n"
     ]
    }
   ],
   "source": [
    "df1 = pd.read_csv('C:/Users/SUNAYANA/OneDrive/Desktop/data.csv', delimiter=';')\n",
    "print(df1.to_string()) "
   ]
  },
  {
   "cell_type": "code",
   "execution_count": 16,
   "id": "3d8f7b86-5a25-4158-ab0c-681ec443b15e",
   "metadata": {},
   "outputs": [
    {
     "data": {
      "text/html": [
       "<div>\n",
       "<style scoped>\n",
       "    .dataframe tbody tr th:only-of-type {\n",
       "        vertical-align: middle;\n",
       "    }\n",
       "\n",
       "    .dataframe tbody tr th {\n",
       "        vertical-align: top;\n",
       "    }\n",
       "\n",
       "    .dataframe thead th {\n",
       "        text-align: right;\n",
       "    }\n",
       "</style>\n",
       "<table border=\"1\" class=\"dataframe\">\n",
       "  <thead>\n",
       "    <tr style=\"text-align: right;\">\n",
       "      <th></th>\n",
       "      <th>Name</th>\n",
       "      <th>Age</th>\n",
       "      <th>City</th>\n",
       "    </tr>\n",
       "  </thead>\n",
       "  <tbody>\n",
       "    <tr>\n",
       "      <th>0</th>\n",
       "      <td>John</td>\n",
       "      <td>28.0</td>\n",
       "      <td>New york</td>\n",
       "    </tr>\n",
       "    <tr>\n",
       "      <th>1</th>\n",
       "      <td>Anna</td>\n",
       "      <td>NaN</td>\n",
       "      <td>Paris</td>\n",
       "    </tr>\n",
       "    <tr>\n",
       "      <th>2</th>\n",
       "      <td>Peter</td>\n",
       "      <td>35.0</td>\n",
       "      <td>Berlin</td>\n",
       "    </tr>\n",
       "    <tr>\n",
       "      <th>3</th>\n",
       "      <td>Linda</td>\n",
       "      <td>32.0</td>\n",
       "      <td>London</td>\n",
       "    </tr>\n",
       "  </tbody>\n",
       "</table>\n",
       "</div>"
      ],
      "text/plain": [
       "        Name    Age      City\n",
       "0     John     28.0  New york\n",
       "1     Anna      NaN     Paris\n",
       "2    Peter     35.0    Berlin\n",
       "3    Linda     32.0    London"
      ]
     },
     "execution_count": 16,
     "metadata": {},
     "output_type": "execute_result"
    }
   ],
   "source": [
    "#Handling Missing Values:\n",
    "df2= pd.read_csv('C:/Users/SUNAYANA/OneDrive/Desktop/data.csv', na_values=['NA', 'Missing'])\n",
    "df2"
   ]
  }
 ],
 "metadata": {
  "kernelspec": {
   "display_name": "Python 3 (ipykernel)",
   "language": "python",
   "name": "python3"
  },
  "language_info": {
   "codemirror_mode": {
    "name": "ipython",
    "version": 3
   },
   "file_extension": ".py",
   "mimetype": "text/x-python",
   "name": "python",
   "nbconvert_exporter": "python",
   "pygments_lexer": "ipython3",
   "version": "3.11.7"
  }
 },
 "nbformat": 4,
 "nbformat_minor": 5
}

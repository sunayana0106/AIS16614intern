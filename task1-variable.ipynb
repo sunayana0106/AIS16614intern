{
 "cells": [
  {
   "cell_type": "markdown",
   "id": "89be6cb7-1d63-4b8b-9542-f0e9501b9ff4",
   "metadata": {},
   "source": [
    "# Rules for Variable declaration"
   ]
  },
  {
   "cell_type": "markdown",
   "id": "1c3a8aba-a2e5-48f6-9afd-dbe7aa500958",
   "metadata": {},
   "source": [
    "1. Variables are containers for storing data values.    \n",
    "2. python variable will only start with a letter or underscore.    \n",
    "3. A variable name can be of any length.          \n",
    "4. It can consist of Uppercase or lowercase letter.   \n",
    "5. Variables do not need to be declared with any particular type, and can even change type after they have been set.           \n",
    "6. The Variable's name can't have spaces. Use underscore, to separate the words.         \n",
    "7. Variable name can't be any python keyword or built-in functions.             "
   ]
  },
  {
   "cell_type": "markdown",
   "id": "436bb62e-012a-470f-87a0-6f0b25a20232",
   "metadata": {},
   "source": [
    "* Creating variabler       \n",
    "  Python has no command for declaring a variable.      \n",
    "  A variable is created the moment you first assign a value to it.    "
   ]
  },
  {
   "cell_type": "code",
   "execution_count": 1,
   "id": "b2f21245-aec5-44b8-9dd7-92a5ae2a4978",
   "metadata": {},
   "outputs": [
    {
     "name": "stdout",
     "output_type": "stream",
     "text": [
      "16614\n",
      "Sunayana\n",
      "Sunayana Thorat\n"
     ]
    }
   ],
   "source": [
    "X=16614\n",
    "y=\"Sunayana\"\n",
    "student_name=\"Sunayana Thorat\"\n",
    "print(X)\n",
    "print(y)\n",
    "print(student_name)"
   ]
  }
 ],
 "metadata": {
  "kernelspec": {
   "display_name": "Python 3 (ipykernel)",
   "language": "python",
   "name": "python3"
  },
  "language_info": {
   "codemirror_mode": {
    "name": "ipython",
    "version": 3
   },
   "file_extension": ".py",
   "mimetype": "text/x-python",
   "name": "python",
   "nbconvert_exporter": "python",
   "pygments_lexer": "ipython3",
   "version": "3.11.7"
  }
 },
 "nbformat": 4,
 "nbformat_minor": 5
}

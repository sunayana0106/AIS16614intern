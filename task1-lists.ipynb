{
 "cells": [
  {
   "cell_type": "markdown",
   "id": "ff09d484-8af4-491d-a1e4-0bdae87f4655",
   "metadata": {},
   "source": [
    "# Python Lists"
   ]
  },
  {
   "cell_type": "markdown",
   "id": "8e799069-cbc5-42a5-80ba-e866ecf53b74",
   "metadata": {},
   "source": [
    "* Lists are used to store multiple items in a single variable.    \n",
    "* \r\n",
    "Lists are one of 4 built-in data types in Python used to store collections of data, the other 3 are Tuple, Set, and Dictionary, all with differen        t qualities and usag\n",
    "* Lists are created using square brackets\n",
    "* List items are ordered, changeable, and allow duplicate values.\n",
    "* List items are indexed, the first item has index [0], the second item has index [1]\n",
    "* python lists are mutable.\n",
    "* A list can contain different data types      ts: "
   ]
  },
  {
   "cell_type": "code",
   "execution_count": 2,
   "id": "249e4786-a9e1-44bf-b7b1-b08528d013a5",
   "metadata": {},
   "outputs": [
    {
     "name": "stdout",
     "output_type": "stream",
     "text": [
      "[1, 'hello', 3.14, True]\n"
     ]
    }
   ],
   "source": [
    "# Creating lists\n",
    "list = [1, \"hello\", 3.14, True]\n",
    "print(list)"
   ]
  },
  {
   "cell_type": "code",
   "execution_count": 4,
   "id": "6b7f8f92-e459-44e2-a6e1-3e0889a37737",
   "metadata": {},
   "outputs": [
    {
     "data": {
      "text/plain": [
       "list"
      ]
     },
     "execution_count": 4,
     "metadata": {},
     "output_type": "execute_result"
    }
   ],
   "source": [
    "# data type\n",
    "type(list)"
   ]
  },
  {
   "cell_type": "code",
   "execution_count": 11,
   "id": "3469a40b-58c8-4438-ad34-deee0f60015d",
   "metadata": {},
   "outputs": [
    {
     "name": "stdout",
     "output_type": "stream",
     "text": [
      "1\n",
      "3.14\n"
     ]
    }
   ],
   "source": [
    "# indexing\n",
    "list = [1, \"hello\", 3.14, True]\n",
    "a=list[0]\n",
    "b=list[-2]\n",
    "print(a)\n",
    "print(b)"
   ]
  },
  {
   "cell_type": "code",
   "execution_count": 12,
   "id": "e19a82dd-37dc-4dcc-9731-a5655ad37e60",
   "metadata": {},
   "outputs": [
    {
     "name": "stdout",
     "output_type": "stream",
     "text": [
      "[10, 20, 30, 10, 40, 20]\n"
     ]
    }
   ],
   "source": [
    "# Allow Duplicates\n",
    "my_list = [10, 20, 30, 10, 40, 20]\n",
    "print(my_list)"
   ]
  },
  {
   "cell_type": "code",
   "execution_count": 13,
   "id": "ea69dbd3-84c5-4a72-a3b9-e7d436d7d972",
   "metadata": {},
   "outputs": [
    {
     "data": {
      "text/plain": [
       "4"
      ]
     },
     "execution_count": 13,
     "metadata": {},
     "output_type": "execute_result"
    }
   ],
   "source": [
    "# List Length : To determine how many items a list has\n",
    "list = [1, \"hello\", 3.14, True]\n",
    "len(list)"
   ]
  },
  {
   "cell_type": "code",
   "execution_count": 15,
   "id": "648af4ad-d781-446a-8c61-42ce4f621d37",
   "metadata": {},
   "outputs": [
    {
     "name": "stdout",
     "output_type": "stream",
     "text": [
      "[1, 'hello', 3.14]\n",
      "['hello', 3.14, True]\n",
      "[1, 3.14]\n"
     ]
    }
   ],
   "source": [
    "# slicing list\n",
    "# Slicing the first three elements\n",
    "print(list[:3])  \n",
    "\n",
    "# Slicing from the second element to the end\n",
    "print(list[1:])  \n",
    "\n",
    "# Slicing with a step\n",
    "print(list[::2])  "
   ]
  },
  {
   "cell_type": "code",
   "execution_count": 24,
   "id": "1b3ed913-7f99-499e-b7e5-2723d103197f",
   "metadata": {},
   "outputs": [
    {
     "name": "stdout",
     "output_type": "stream",
     "text": [
      "[1, 'World', 30, 30, True]\n"
     ]
    }
   ],
   "source": [
    "# Modifying List Elements\n",
    "# Changing an element\n",
    "list[1] = \"World\"\n",
    "print(list)  "
   ]
  },
  {
   "cell_type": "markdown",
   "id": "250e3484-da55-4fad-9ce1-508457985a84",
   "metadata": {},
   "source": [
    "* List Methods"
   ]
  },
  {
   "cell_type": "markdown",
   "id": "c6299221-a2b4-4de1-a919-a3147cd35058",
   "metadata": {},
   "source": [
    " Method\t                            Description\n",
    " \n",
    "append()\t               Adds an element at the end of the list\n",
    "clear()                    Removes all the elements from the list\n",
    "copy()\t                   Returns a copy of the list\n",
    "count()\t                   Returns the number of elements with the specified value\n",
    "extend()\t               Add the elements of a list (or any iterable), to the end of the current list\n",
    "index()\t                   Returns the index of the first element with the specified value\n",
    "insert()\t               Adds an element at the specified position\n",
    "pop()\t                   Removes the element at the specified position\n",
    "remove()\t               Removes the item with the specified value\n",
    "reverse()\t               Reverses the order of the list\n",
    "sort()\t                   Sorts the list"
   ]
  },
  {
   "cell_type": "code",
   "execution_count": 32,
   "id": "303b21ba-c5c8-418c-b381-29e1b7827e20",
   "metadata": {},
   "outputs": [
    {
     "name": "stdout",
     "output_type": "stream",
     "text": [
      "[1, 'hello', 3.14, True, 'College']\n",
      "['apple', 'banana', 'cherry', ['Ford', 'BMW', 'Volvo']]\n"
     ]
    }
   ],
   "source": [
    "# append()\n",
    "list = [1, \"hello\", 3.14, True]\n",
    "list.append(\"College\")\n",
    "print(list)\n",
    "#Add a list to a list:\n",
    "a = [\"apple\", \"banana\", \"cherry\"]\n",
    "b = [\"Ford\", \"BMW\", \"Volvo\"]\n",
    "a.append(b)\n",
    "print(a)"
   ]
  },
  {
   "cell_type": "code",
   "execution_count": 34,
   "id": "c3b733b5-7b9d-4e54-83ad-f3533562e9b3",
   "metadata": {},
   "outputs": [
    {
     "name": "stdout",
     "output_type": "stream",
     "text": [
      "[]\n"
     ]
    }
   ],
   "source": [
    "# clear()\n",
    "list.clear()\n",
    "print(list)"
   ]
  },
  {
   "cell_type": "code",
   "execution_count": 36,
   "id": "4e49a61b-31d4-485e-8731-9d23566f5ffc",
   "metadata": {},
   "outputs": [
    {
     "name": "stdout",
     "output_type": "stream",
     "text": [
      "[10, 20, 30, 10, 40, 20]\n"
     ]
    }
   ],
   "source": [
    "# copy()\n",
    "y=my_list.copy()\n",
    "print(y)"
   ]
  },
  {
   "cell_type": "code",
   "execution_count": 38,
   "id": "b1c8eeee-b5fa-4a50-8341-10a69bdc3ebc",
   "metadata": {},
   "outputs": [
    {
     "data": {
      "text/plain": [
       "2"
      ]
     },
     "execution_count": 38,
     "metadata": {},
     "output_type": "execute_result"
    }
   ],
   "source": [
    "# count()\n",
    "my_list.count(20)"
   ]
  },
  {
   "cell_type": "code",
   "execution_count": 39,
   "id": "56b17ce2-5722-4409-943b-1c75d3afac9c",
   "metadata": {},
   "outputs": [
    {
     "name": "stdout",
     "output_type": "stream",
     "text": [
      "['apple', 'banana', 'cherry', 'elderberry', 'fig']\n"
     ]
    }
   ],
   "source": [
    "# extend()\n",
    "fruits = ['apple', 'banana', 'cherry']\n",
    "fruits.extend([\"elderberry\", \"fig\"])\n",
    "print(fruits)"
   ]
  },
  {
   "cell_type": "code",
   "execution_count": 44,
   "id": "f388037a-dd0e-4d73-a020-b3114a965aea",
   "metadata": {},
   "outputs": [
    {
     "name": "stdout",
     "output_type": "stream",
     "text": [
      "1\n"
     ]
    }
   ],
   "source": [
    "# index()\t \n",
    "x=fruits.index(\"banana\")\n",
    "print(x)"
   ]
  },
  {
   "cell_type": "code",
   "execution_count": 56,
   "id": "996acff3-6e31-4190-8bd6-1bcd3d1a5268",
   "metadata": {},
   "outputs": [
    {
     "name": "stdout",
     "output_type": "stream",
     "text": [
      "['apple', 'orange', 'banana', 'cherry']\n"
     ]
    }
   ],
   "source": [
    "# insert()\n",
    "fruits = ['apple', 'banana', 'cherry']\n",
    "fruits.insert(1, \"orange\")\n",
    "print(fruits)"
   ]
  },
  {
   "cell_type": "code",
   "execution_count": 57,
   "id": "4da85218-a630-4078-991c-9b254f7269dc",
   "metadata": {},
   "outputs": [
    {
     "data": {
      "text/plain": [
       "'cherry'"
      ]
     },
     "execution_count": 57,
     "metadata": {},
     "output_type": "execute_result"
    }
   ],
   "source": [
    "# pop()\n",
    "fruits.pop()"
   ]
  },
  {
   "cell_type": "code",
   "execution_count": 66,
   "id": "9aeeb9b4-2d3f-4039-b21d-65bf84444e65",
   "metadata": {},
   "outputs": [
    {
     "name": "stdout",
     "output_type": "stream",
     "text": [
      "['apple', 'cherry']\n"
     ]
    }
   ],
   "source": [
    "# remove() \n",
    "fruits = ['apple', 'banana', 'cherry']\n",
    "fruits.remove(\"banana\")\n",
    "print(fruits)"
   ]
  },
  {
   "cell_type": "code",
   "execution_count": 67,
   "id": "888353d6-5f4f-46b1-9224-7e0502a14e5e",
   "metadata": {},
   "outputs": [
    {
     "name": "stdout",
     "output_type": "stream",
     "text": [
      "[20, 40, 10, 30, 20, 10]\n"
     ]
    }
   ],
   "source": [
    "# reverse()\n",
    "my_list.reverse()\n",
    "print(my_list)"
   ]
  },
  {
   "cell_type": "code",
   "execution_count": 68,
   "id": "680e4eb3-9ab3-40d1-991f-180d6164b72e",
   "metadata": {},
   "outputs": [
    {
     "name": "stdout",
     "output_type": "stream",
     "text": [
      "[10, 10, 20, 20, 30, 40]\n"
     ]
    }
   ],
   "source": [
    "# sort()\t\n",
    "my_list.sort()\n",
    "print(my_list)"
   ]
  }
 ],
 "metadata": {
  "kernelspec": {
   "display_name": "Python 3 (ipykernel)",
   "language": "python",
   "name": "python3"
  },
  "language_info": {
   "codemirror_mode": {
    "name": "ipython",
    "version": 3
   },
   "file_extension": ".py",
   "mimetype": "text/x-python",
   "name": "python",
   "nbconvert_exporter": "python",
   "pygments_lexer": "ipython3",
   "version": "3.11.7"
  }
 },
 "nbformat": 4,
 "nbformat_minor": 5
}

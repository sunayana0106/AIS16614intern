{
 "cells": [
  {
   "cell_type": "markdown",
   "id": "fd59800a-55a0-4606-a168-0dc4e4986bff",
   "metadata": {},
   "source": [
    "  # Operators in python"
   ]
  },
  {
   "cell_type": "markdown",
   "id": "b0ffd12b-34c1-4e55-a7e3-f4da3addb88e",
   "metadata": {},
   "source": [
    "1. Arithmatic Operator                      \r\n",
    "+,-,*,/,**(Power),%(modulus)             "
   ]
  },
  {
   "cell_type": "markdown",
   "id": "43f45b92-e928-40ce-ae60-431c58a42bd3",
   "metadata": {},
   "source": [
    "* Examples:"
   ]
  },
  {
   "cell_type": "code",
   "execution_count": 1,
   "id": "c663d5a5-03ed-4f90-b715-525ed4b627a7",
   "metadata": {},
   "outputs": [
    {
     "data": {
      "text/plain": [
       "8"
      ]
     },
     "execution_count": 1,
     "metadata": {},
     "output_type": "execute_result"
    }
   ],
   "source": [
    "2+6"
   ]
  },
  {
   "cell_type": "code",
   "execution_count": 2,
   "id": "4b5f0d34-9717-4659-b63c-6ff01d781f31",
   "metadata": {},
   "outputs": [
    {
     "data": {
      "text/plain": [
       "2.25"
      ]
     },
     "execution_count": 2,
     "metadata": {},
     "output_type": "execute_result"
    }
   ],
   "source": [
    "9/4"
   ]
  },
  {
   "cell_type": "code",
   "execution_count": 3,
   "id": "b982e1fd-9d35-467a-958b-c0592eb719b4",
   "metadata": {},
   "outputs": [
    {
     "data": {
      "text/plain": [
       "125"
      ]
     },
     "execution_count": 3,
     "metadata": {},
     "output_type": "execute_result"
    }
   ],
   "source": [
    "5**3"
   ]
  },
  {
   "cell_type": "code",
   "execution_count": 4,
   "id": "c6275951-518e-4e3b-b832-ae3316a62854",
   "metadata": {},
   "outputs": [
    {
     "data": {
      "text/plain": [
       "5"
      ]
     },
     "execution_count": 4,
     "metadata": {},
     "output_type": "execute_result"
    }
   ],
   "source": [
    "17%6"
   ]
  },
  {
   "cell_type": "markdown",
   "id": "eff24adb-b57f-40dd-9c66-f0055a9e581f",
   "metadata": {},
   "source": [
    "2. Assignment operator    \n",
    "   +=,-=,*=,/="
   ]
  },
  {
   "cell_type": "code",
   "execution_count": 5,
   "id": "fd9589d0-8172-4669-9877-994862faa59a",
   "metadata": {},
   "outputs": [
    {
     "data": {
      "text/plain": [
       "2.0"
      ]
     },
     "execution_count": 5,
     "metadata": {},
     "output_type": "execute_result"
    }
   ],
   "source": [
    "x=6\n",
    "x/=3\n",
    "x"
   ]
  },
  {
   "cell_type": "markdown",
   "id": "2bdd03fb-f95f-47a6-a342-6912550e4575",
   "metadata": {},
   "source": [
    "3. Comparison operator          \n",
    "   <,>,==,!=,<=,>=     "
   ]
  },
  {
   "cell_type": "code",
   "execution_count": 6,
   "id": "0c409179-0f75-4117-8506-782233ec2b5d",
   "metadata": {},
   "outputs": [
    {
     "data": {
      "text/plain": [
       "True"
      ]
     },
     "execution_count": 6,
     "metadata": {},
     "output_type": "execute_result"
    }
   ],
   "source": [
    "8<=9"
   ]
  },
  {
   "cell_type": "code",
   "execution_count": 7,
   "id": "5af6b214-c453-4337-a11c-d1600814ee15",
   "metadata": {},
   "outputs": [
    {
     "data": {
      "text/plain": [
       "False"
      ]
     },
     "execution_count": 7,
     "metadata": {},
     "output_type": "execute_result"
    }
   ],
   "source": [
    "a=5\n",
    "b=10/2\n",
    "a!=b"
   ]
  },
  {
   "cell_type": "markdown",
   "id": "21e2fcf2-6784-4319-9153-5bc4db1246ec",
   "metadata": {},
   "source": [
    "4.Logical operator      \n",
    "  And,Or, Not    "
   ]
  },
  {
   "cell_type": "code",
   "execution_count": 8,
   "id": "a20d9537-3673-4bf4-93fa-545a4147f22d",
   "metadata": {},
   "outputs": [
    {
     "data": {
      "text/plain": [
       "False"
      ]
     },
     "execution_count": 8,
     "metadata": {},
     "output_type": "execute_result"
    }
   ],
   "source": [
    "x=7\n",
    "x < 5 and x < 10"
   ]
  },
  {
   "cell_type": "code",
   "execution_count": 9,
   "id": "4e916c6f-55f7-4c55-a5ca-ad725675a19d",
   "metadata": {},
   "outputs": [
    {
     "data": {
      "text/plain": [
       "False"
      ]
     },
     "execution_count": 9,
     "metadata": {},
     "output_type": "execute_result"
    }
   ],
   "source": [
    "y=3\n",
    "not(y < 5 and y < 10)"
   ]
  },
  {
   "cell_type": "markdown",
   "id": "f3babc8a-d2ee-4973-93e8-a033c3222e97",
   "metadata": {},
   "source": [
    "5. Identity operator     \n",
    "   is, is not    "
   ]
  },
  {
   "cell_type": "code",
   "execution_count": 14,
   "id": "d9f9d4e1-e3fa-432b-a533-ee3a1e7a4ecb",
   "metadata": {},
   "outputs": [
    {
     "name": "stdout",
     "output_type": "stream",
     "text": [
      "False\n"
     ]
    }
   ],
   "source": [
    "x = [1, 2, 3]\n",
    "y = [1, 2, 3]\n",
    "print(x is y) "
   ]
  },
  {
   "cell_type": "markdown",
   "id": "5765bd8c-b3d3-4c27-abc6-1bdf67ddcc77",
   "metadata": {},
   "source": [
    "6. Membership operator     \n",
    "   in, not in"
   ]
  },
  {
   "cell_type": "code",
   "execution_count": 21,
   "id": "15db679b-c6f0-473a-81a7-d96a45d5428a",
   "metadata": {},
   "outputs": [
    {
     "data": {
      "text/plain": [
       "False"
      ]
     },
     "execution_count": 21,
     "metadata": {},
     "output_type": "execute_result"
    }
   ],
   "source": [
    "vowels=(\"a\",\"e\",\"i\",\"o\",\"u\")\n",
    "\"s\" in vowels"
   ]
  }
 ],
 "metadata": {
  "kernelspec": {
   "display_name": "Python 3 (ipykernel)",
   "language": "python",
   "name": "python3"
  },
  "language_info": {
   "codemirror_mode": {
    "name": "ipython",
    "version": 3
   },
   "file_extension": ".py",
   "mimetype": "text/x-python",
   "name": "python",
   "nbconvert_exporter": "python",
   "pygments_lexer": "ipython3",
   "version": "3.11.7"
  }
 },
 "nbformat": 4,
 "nbformat_minor": 5
}

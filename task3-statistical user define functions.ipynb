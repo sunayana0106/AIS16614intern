{
 "cells": [
  {
   "cell_type": "markdown",
   "id": "5d01f988-3371-436f-adb7-b64205adef62",
   "metadata": {},
   "source": [
    "# statistical user define functions"
   ]
  },
  {
   "cell_type": "markdown",
   "id": "655d028a-6b97-42a8-871d-d8fc75beba8a",
   "metadata": {},
   "source": [
    "* Creating a statistical user-defined function (UDF) in Python involves defining a function that performs specific statistical operations on data. Below, I'll show you how to create a simple UDF for calculating common statistical measures such as mean, median, variance, and standard deviation."
   ]
  },
  {
   "cell_type": "markdown",
   "id": "eb6de72d-b1d2-4d30-9d64-b9381e561434",
   "metadata": {},
   "source": [
    "  * EXAMPLES"
   ]
  },
  {
   "cell_type": "code",
   "execution_count": 1,
   "id": "8783f8ac-b941-4518-8a8d-eaeeab4de374",
   "metadata": {},
   "outputs": [
    {
     "name": "stdout",
     "output_type": "stream",
     "text": [
      "Mean: 3.0\n"
     ]
    }
   ],
   "source": [
    "# Mean\n",
    "def mean(data):\n",
    "    \"\"\"Calculate the mean of a list of numbers.\"\"\"\n",
    "    return sum(data) / len(data) if len(data) > 0 else float('nan')\n",
    "data = [1, 2, 3, 4, 5]\n",
    "print(\"Mean:\", mean(data))"
   ]
  },
  {
   "cell_type": "code",
   "execution_count": 2,
   "id": "268659e3-f9cf-4f98-8052-6d47348c72e5",
   "metadata": {},
   "outputs": [
    {
     "name": "stdout",
     "output_type": "stream",
     "text": [
      "Median: 3\n"
     ]
    }
   ],
   "source": [
    "# Median \n",
    "def custom_median(data):\n",
    "    \"\"\"Calculate the median of a list of numbers.\"\"\"\n",
    "    sorted_data = sorted(data)\n",
    "    n = len(sorted_data)\n",
    "    if n == 0:\n",
    "        return float('nan')\n",
    "    mid = n // 2\n",
    "    if n % 2 == 1:\n",
    "        return sorted_data[mid]\n",
    "    else:\n",
    "        return (sorted_data[mid - 1] + sorted_data[mid]) / 2\n",
    "data = [5, 3, 1, 4, 2]\n",
    "print(\"Median:\", custom_median(data))"
   ]
  },
  {
   "cell_type": "code",
   "execution_count": 5,
   "id": "85f79cea-a50f-4742-a774-a323b81ac47c",
   "metadata": {},
   "outputs": [
    {
     "name": "stdout",
     "output_type": "stream",
     "text": [
      "Variance: 2.5\n"
     ]
    }
   ],
   "source": [
    "# Variance\n",
    "def variance(data):\n",
    "    \"\"\"Calculate the variance of a list of numbers.\"\"\"\n",
    "    mean1 = mean(data)\n",
    "    return sum((x - mean1) ** 2 for x in data) / (len(data) - 1)\n",
    "data = [1, 2, 3, 4, 5]\n",
    "print(\"Variance:\",variance(data))"
   ]
  },
  {
   "cell_type": "code",
   "execution_count": 6,
   "id": "67a66f67-cdf7-4ba1-8bef-c08fc25297e2",
   "metadata": {},
   "outputs": [
    {
     "name": "stdout",
     "output_type": "stream",
     "text": [
      "Standard Deviation: 1.5811388300841898\n"
     ]
    }
   ],
   "source": [
    "# Standard deviation\n",
    "def std_dev(data):\n",
    "    \"\"\"Calculate the standard deviation of a list of numbers.\"\"\"\n",
    "    var = variance(data)\n",
    "    return var ** 0.5\n",
    "data = [1, 2, 3, 4, 5]\n",
    "print(\"Standard Deviation:\", std_dev(data))"
   ]
  },
  {
   "cell_type": "code",
   "execution_count": 7,
   "id": "ab1b8f10-0100-4787-9a63-ebd36222dde3",
   "metadata": {},
   "outputs": [
    {
     "name": "stdout",
     "output_type": "stream",
     "text": [
      "Correlation Coefficient: 0.9999999999999998\n"
     ]
    }
   ],
   "source": [
    "# Correlation\n",
    "def correlation(x, y):\n",
    "    \"\"\"Calculate the Pearson correlation coefficient between two lists of numbers.\"\"\"\n",
    "    n = len(x)\n",
    "    if n != len(y) or n == 0:\n",
    "        return float('nan')\n",
    "    mean_x = mean(x)\n",
    "    mean_y = mean(y)\n",
    "    sum_xy = sum((xi - mean_x) * (yi - mean_y) for xi, yi in zip(x, y))\n",
    "    sum_x2 = sum((xi - mean_x) ** 2 for xi in x)\n",
    "    sum_y2 = sum((yi - mean_y) ** 2 for yi in y)\n",
    "    return sum_xy / (sum_x2 ** 0.5 * sum_y2 ** 0.5)\n",
    "x = [1, 2, 3, 4, 5]\n",
    "y = [2, 4, 6, 8, 10]\n",
    "print(\"Correlation Coefficient:\", correlation(x, y))"
   ]
  },
  {
   "cell_type": "code",
   "execution_count": 8,
   "id": "57d07d5d-fba3-4527-9295-45d1c054135d",
   "metadata": {},
   "outputs": [
    {
     "name": "stdout",
     "output_type": "stream",
     "text": [
      "90th Percentile: 9.1\n"
     ]
    }
   ],
   "source": [
    "# Percentile\n",
    "def percentile(data, percentile):\n",
    "    \"\"\"Calculate the given percentile of a list of numbers.\"\"\"\n",
    "    sorted_data = sorted(data)\n",
    "    index = (len(sorted_data) - 1) * percentile / 100.0\n",
    "    lower = int(index)\n",
    "    upper = lower + 1\n",
    "    if upper >= len(sorted_data):\n",
    "        return sorted_data[lower]\n",
    "    return sorted_data[lower] + (sorted_data[upper] - sorted_data[lower]) * (index - lower)\n",
    "\n",
    "data = [1, 2, 3, 4, 5, 6, 7, 8, 9, 10]\n",
    "print(\"90th Percentile:\", percentile(data, 90))"
   ]
  },
  {
   "cell_type": "code",
   "execution_count": 9,
   "id": "26243d36-b520-49e2-b269-c5c103102e72",
   "metadata": {},
   "outputs": [
    {
     "name": "stdout",
     "output_type": "stream",
     "text": [
      "Mode: [4]\n"
     ]
    }
   ],
   "source": [
    "# Mode\n",
    "from collections import Counter\n",
    "\n",
    "def mode(data):\n",
    "    \"\"\"Calculate the mode(s) of a list of numbers.\"\"\"\n",
    "    if not data:\n",
    "        return None\n",
    "    frequency = Counter(data)\n",
    "    max_count = max(frequency.values())\n",
    "    return [k for k, v in frequency.items() if v == max_count]\n",
    "\n",
    "# Example usage\n",
    "data = [1, 2, 2, 3, 4, 4, 4, 5]\n",
    "print(\"Mode:\", mode(data))"
   ]
  },
  {
   "cell_type": "code",
   "execution_count": 10,
   "id": "c60d2d86-8258-410a-8905-b70734452cf4",
   "metadata": {},
   "outputs": [
    {
     "name": "stdout",
     "output_type": "stream",
     "text": [
      "Range: 8\n"
     ]
    }
   ],
   "source": [
    "# Range\n",
    "def range(data):\n",
    "    \"\"\"Calculate the range of a list of numbers.\"\"\"\n",
    "    if not data:\n",
    "        return float('nan')\n",
    "    return max(data) - min(data)\n",
    "data = [3, 1, 4, 1, 5, 9, 2, 6, 5]\n",
    "print(\"Range:\", range(data))"
   ]
  },
  {
   "cell_type": "code",
   "execution_count": 13,
   "id": "512c73b6-6350-4a2d-b68a-762a8e71c205",
   "metadata": {},
   "outputs": [
    {
     "name": "stdout",
     "output_type": "stream",
     "text": [
      "Covariance: 5.0\n"
     ]
    }
   ],
   "source": [
    "# Covariance\n",
    "def covariance(x, y):\n",
    "    \"\"\"Calculate the covariance between two lists of numbers.\"\"\"\n",
    "    n = len(x)\n",
    "    if n != len(y) or n == 0:\n",
    "        return float('nan')\n",
    "    mean_x = mean(x)\n",
    "    mean_y = mean(y)\n",
    "    covariance = sum((xi - mean_x) * (yi - mean_y) for xi, yi in zip(x, y)) / (n - 1)\n",
    "    return covariance\n",
    "\n",
    "x = [1, 2, 3, 4, 5]\n",
    "y = [2, 4, 6, 8, 10]\n",
    "print(\"Covariance:\", covariance(x, y))"
   ]
  },
  {
   "cell_type": "code",
   "execution_count": 17,
   "id": "5fa80e02-7e66-4a8c-9b0c-a076ccd8c0bd",
   "metadata": {},
   "outputs": [
    {
     "name": "stdout",
     "output_type": "stream",
     "text": [
      "Kurtosis: -0.9954275262917243\n"
     ]
    }
   ],
   "source": [
    "# kurtosis\n",
    "def kurtosis(data):\n",
    "    \"\"\"Calculate the kurtosis of a list of numbers.\"\"\"\n",
    "    n = len(data)\n",
    "    if n < 4:\n",
    "        return float('nan')\n",
    "    mean2 = mean(data)\n",
    "    std_dev1 = std_dev(data)\n",
    "    kurtosis = (sum((x - mean2) ** 4 for x in data) / n) / (std_dev1 ** 4) - 3\n",
    "    return kurtosis\n",
    "\n",
    "data = [3, 1, 4, 1, 5, 9, 2, 6, 5]\n",
    "print(\"Kurtosis:\", kurtosis(data))"
   ]
  }
 ],
 "metadata": {
  "kernelspec": {
   "display_name": "Python 3 (ipykernel)",
   "language": "python",
   "name": "python3"
  },
  "language_info": {
   "codemirror_mode": {
    "name": "ipython",
    "version": 3
   },
   "file_extension": ".py",
   "mimetype": "text/x-python",
   "name": "python",
   "nbconvert_exporter": "python",
   "pygments_lexer": "ipython3",
   "version": "3.11.7"
  }
 },
 "nbformat": 4,
 "nbformat_minor": 5
}

{
 "cells": [
  {
   "cell_type": "markdown",
   "id": "1b6e0c4d-615e-4ba9-9b1b-f484c5d52ef4",
   "metadata": {},
   "source": [
    "* iloc (Integer-location based indexing)\n",
    "* iloc is used for integer-based indexing. It allows you to select rows and columns by their integer position."
   ]
  },
  {
   "cell_type": "code",
   "execution_count": 2,
   "id": "358e4793-78da-4ef9-97e3-f50428bde02c",
   "metadata": {},
   "outputs": [
    {
     "name": "stdout",
     "output_type": "stream",
     "text": [
      "   A   B    C     D\n",
      "0  1  10  100  1000\n",
      "1  2  20  200  2000\n",
      "2  3  30  300  3000\n",
      "3  4  40  400  4000\n",
      "A       1\n",
      "B      10\n",
      "C     100\n",
      "D    1000\n",
      "Name: 0, dtype: int64\n",
      "   A   B    C     D\n",
      "0  1  10  100  1000\n",
      "1  2  20  200  2000\n"
     ]
    }
   ],
   "source": [
    "import pandas as pd\n",
    "data = {\n",
    "    'A': [1, 2, 3, 4],\n",
    "    'B': [10, 20, 30, 40],\n",
    "    'C': [100, 200, 300, 400],\n",
    "    'D': [1000, 2000, 3000, 4000]\n",
    "}\n",
    "\n",
    "df = pd.DataFrame(data)\n",
    "print(df)\n",
    "# Selecting Rows and Columns using iloc\n",
    "# Select the first row\n",
    "print(df.iloc[0])\n",
    "\n",
    "# Select the first two rows\n",
    "print(df.iloc[:2])"
   ]
  },
  {
   "cell_type": "markdown",
   "id": "ffa57aeb-6fc5-4144-8e7e-d1e09947d433",
   "metadata": {},
   "source": [
    "* loc (Label-location based indexing)\n",
    "* loc is used for label-based indexing. It allows you to select rows and columns by their labels."
   ]
  },
  {
   "cell_type": "code",
   "execution_count": 3,
   "id": "33985036-d932-48b3-b1d0-1f922c276537",
   "metadata": {},
   "outputs": [
    {
     "name": "stdout",
     "output_type": "stream",
     "text": [
      "A       1\n",
      "B      10\n",
      "C     100\n",
      "D    1000\n",
      "Name: 0, dtype: int64\n"
     ]
    }
   ],
   "source": [
    "import pandas as pd\n",
    "data = {\n",
    "    'A': [1, 2, 3, 4],\n",
    "    'B': [10, 20, 30, 40],\n",
    "    'C': [100, 200, 300, 400],\n",
    "    'D': [1000, 2000, 3000, 4000]\n",
    "}\n",
    "df = pd.DataFrame(data)\n",
    "print(df.loc[0])"
   ]
  },
  {
   "cell_type": "code",
   "execution_count": 4,
   "id": "28d8c309-11f5-470f-b32b-755ef8014e02",
   "metadata": {},
   "outputs": [
    {
     "name": "stdout",
     "output_type": "stream",
     "text": [
      "0    1\n",
      "1    2\n",
      "2    3\n",
      "3    4\n",
      "Name: A, dtype: int64\n"
     ]
    }
   ],
   "source": [
    "#Select a single column by label:\n",
    "print(df.loc[:, 'A'])"
   ]
  },
  {
   "cell_type": "code",
   "execution_count": 5,
   "id": "23529b9e-ceb5-410c-9e9e-1a915ae57155",
   "metadata": {},
   "outputs": [
    {
     "name": "stdout",
     "output_type": "stream",
     "text": [
      "   A    C\n",
      "0  1  100\n",
      "2  3  300\n"
     ]
    }
   ],
   "source": [
    "# # Select rows 0 and 2, and columns 0 and 2\n",
    "print(df.iloc[[0, 2], [0, 2]])"
   ]
  },
  {
   "cell_type": "markdown",
   "id": "5ec7707b-9d14-4c43-a2b8-2187af7ff58e",
   "metadata": {},
   "source": [
    "* conditional selection\n",
    "* Conditional selection in pandas DataFrame allows you to filter rows based on certain conditions. "
   ]
  },
  {
   "cell_type": "code",
   "execution_count": null,
   "id": "a453d2dc-0305-4eb1-b282-251563bc8360",
   "metadata": {},
   "outputs": [],
   "source": [
    "import pandas as pd\n",
    "\n",
    "data = {\n",
    "    'Name': ['Alice', 'Bob', 'Charlie', 'David', 'Emma'],\n",
    "    'Age': [25, 30, 35, 40, 45],\n",
    "    'Gender': ['Female', 'Male', 'Male', 'Male', 'Female'],\n",
    "    'Salary': [50000, 60000, 70000, 80000, 90000]\n",
    "}\n",
    "\n",
    "df = pd.DataFrame(data)\n",
    "# To select rows where the age is greater than 30:\n",
    "# Select rows where Age > 30\n",
    "age_gt_30 = df[df['Age'] > 30]\n",
    "\n",
    "print(age_gt_30)"
   ]
  },
  {
   "cell_type": "markdown",
   "id": "c8049dde-ae92-43d0-a6af-75ab22eba12b",
   "metadata": {},
   "source": [
    "* In pandas, you can add, delete, and update columns in a DataFrame using various methods."
   ]
  },
  {
   "cell_type": "code",
   "execution_count": 7,
   "id": "c06168cd-5c10-492e-9bf0-cdc9ee223960",
   "metadata": {},
   "outputs": [
    {
     "name": "stdout",
     "output_type": "stream",
     "text": [
      "   A   B    C\n",
      "0  1  10  100\n",
      "1  2  20  200\n",
      "2  3  30  300\n",
      "3  4  40  400\n"
     ]
    }
   ],
   "source": [
    "#Adding column\n",
    "import pandas as pd\n",
    "data = {\n",
    "    'A': [1, 2, 3, 4],\n",
    "    'B': [10, 20, 30, 40]\n",
    "}\n",
    "df = pd.DataFrame(data)\n",
    "\n",
    "# Adding a new column 'C'\n",
    "df['C'] = [100, 200, 300, 400]\n",
    "print(df)"
   ]
  },
  {
   "cell_type": "code",
   "execution_count": 8,
   "id": "978cf718-e989-4797-8ec7-5d718687f838",
   "metadata": {},
   "outputs": [
    {
     "name": "stdout",
     "output_type": "stream",
     "text": [
      "   A    C\n",
      "0  1  100\n",
      "1  2  200\n",
      "2  3  300\n",
      "3  4  400\n",
      "   A\n",
      "0  1\n",
      "1  2\n",
      "2  3\n",
      "3  4\n"
     ]
    }
   ],
   "source": [
    "#Deleting a Column\n",
    "# To delete a column, you can use the drop() method with the axis parameter set to 1:\n",
    "\n",
    "# Deleting column 'B'\n",
    "df = df.drop('B', axis=1)\n",
    "print(df)\n",
    "\n",
    "# Deleting column 'C' using del\n",
    "del df['C']\n",
    "print(df)"
   ]
  },
  {
   "cell_type": "code",
   "execution_count": 9,
   "id": "3b080e28-96e1-4ca4-a94f-2cd23b83dcbb",
   "metadata": {},
   "outputs": [
    {
     "name": "stdout",
     "output_type": "stream",
     "text": [
      "    A\n",
      "0  10\n",
      "1  20\n",
      "2  30\n",
      "3  40\n"
     ]
    }
   ],
   "source": [
    "# Updating a Column\n",
    "# To update values in a column, you can directly assign new values to the column:\n",
    "df['A'] = [10, 20, 30, 40]\n",
    "print(df)"
   ]
  },
  {
   "cell_type": "markdown",
   "id": "b3fad906-bbf7-4f40-8335-06ea37ff46bd",
   "metadata": {},
   "source": [
    "* Index"
   ]
  },
  {
   "cell_type": "code",
   "execution_count": 10,
   "id": "ee773640-d7c1-402b-8da9-85d6950dd31a",
   "metadata": {},
   "outputs": [
    {
     "name": "stdout",
     "output_type": "stream",
     "text": [
      "   B  C\n",
      "A      \n",
      "1  4  7\n",
      "2  5  8\n",
      "3  6  9\n"
     ]
    }
   ],
   "source": [
    "# Setting an Index\n",
    "# To set an index for a DataFrame, you can use the set_index() method:\n",
    "import pandas as pd\n",
    "data = {\n",
    "    'A': [1, 2, 3],\n",
    "    'B': [4, 5, 6],\n",
    "    'C': [7, 8, 9]\n",
    "}\n",
    "df = pd.DataFrame(data)\n",
    "# Set 'A' column as index\n",
    "df.set_index('A', inplace=True)\n",
    "print(df)"
   ]
  },
  {
   "cell_type": "code",
   "execution_count": 11,
   "id": "951b12f7-44e2-4e72-b9a5-16befb54eb44",
   "metadata": {},
   "outputs": [
    {
     "name": "stdout",
     "output_type": "stream",
     "text": [
      "   A  B  C\n",
      "0  1  4  7\n",
      "1  2  5  8\n",
      "2  3  6  9\n"
     ]
    }
   ],
   "source": [
    "# Resetting Index\n",
    "# To reset the index and move it back to columns, you can use the reset_index() method:\n",
    "df.reset_index(inplace=True)\n",
    "print(df)"
   ]
  },
  {
   "cell_type": "code",
   "execution_count": 12,
   "id": "9bdc6e89-5842-4d4e-aaf4-34beb349218f",
   "metadata": {},
   "outputs": [
    {
     "name": "stdout",
     "output_type": "stream",
     "text": [
      "   A  B  C\n",
      "0  1  4  7\n",
      "1  2  5  8\n",
      "2  3  6  9\n"
     ]
    }
   ],
   "source": [
    "# Removing Index\n",
    "# to remove the index completely without resetting it back to columns, you can set drop=True in reset_index():\n",
    "df.reset_index(drop=True, inplace=True)\n",
    "print(df)"
   ]
  },
  {
   "cell_type": "markdown",
   "id": "53beea0d-bafe-46ac-9adb-f3b434ad0349",
   "metadata": {},
   "source": [
    "* Arithmatic Operations between two columns"
   ]
  },
  {
   "cell_type": "code",
   "execution_count": 13,
   "id": "3811c4ce-dabe-441e-aef1-51883c3acc9d",
   "metadata": {},
   "outputs": [
    {
     "name": "stdout",
     "output_type": "stream",
     "text": [
      "   A  B\n",
      "0  1  5\n",
      "1  2  6\n",
      "2  3  7\n",
      "3  4  8\n",
      "   A  B  Sum  Difference  Product  Quotient\n",
      "0  1  5    6          -4        5  0.200000\n",
      "1  2  6    8          -4       12  0.333333\n",
      "2  3  7   10          -4       21  0.428571\n",
      "3  4  8   12          -4       32  0.500000\n"
     ]
    }
   ],
   "source": [
    "import pandas as pd\n",
    "data = {\n",
    "    'A': [1, 2, 3, 4],\n",
    "    'B': [5, 6, 7, 8]\n",
    "}\n",
    "df = pd.DataFrame(data)\n",
    "print(df)\n",
    "\n",
    "# Addition\n",
    "df['Sum'] = df['A'] + df['B']\n",
    "\n",
    "# Subtraction\n",
    "df['Difference'] = df['A'] - df['B']\n",
    "\n",
    "# Multiplication\n",
    "df['Product'] = df['A'] * df['B']\n",
    "\n",
    "# Division\n",
    "df['Quotient'] = df['A'] / df['B']\n",
    "\n",
    "print(df)"
   ]
  }
 ],
 "metadata": {
  "kernelspec": {
   "display_name": "Python 3 (ipykernel)",
   "language": "python",
   "name": "python3"
  },
  "language_info": {
   "codemirror_mode": {
    "name": "ipython",
    "version": 3
   },
   "file_extension": ".py",
   "mimetype": "text/x-python",
   "name": "python",
   "nbconvert_exporter": "python",
   "pygments_lexer": "ipython3",
   "version": "3.11.7"
  }
 },
 "nbformat": 4,
 "nbformat_minor": 5
}

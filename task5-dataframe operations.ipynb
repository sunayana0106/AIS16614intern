{
 "cells": [
  {
   "cell_type": "markdown",
   "id": "7048f32f-d19f-4a72-80f6-b73fa4eeea81",
   "metadata": {},
   "source": [
    "# dataframe operations"
   ]
  },
  {
   "cell_type": "code",
   "execution_count": 2,
   "id": "ac9bfe88-105e-4518-884a-e594c6092ed5",
   "metadata": {},
   "outputs": [
    {
     "name": "stdout",
     "output_type": "stream",
     "text": [
      "Value Counts:\n",
      " Category\n",
      "A    3\n",
      "B    3\n",
      "C    2\n",
      "Name: count, dtype: int64\n"
     ]
    }
   ],
   "source": [
    "# value_counts():\n",
    "# value_counts() is used to count the occurrences of unique values in a column.\n",
    "import pandas as pd\n",
    "data = {'Category': ['A', 'B', 'A', 'C', 'A', 'B', 'B', 'C']}\n",
    "df = pd.DataFrame(data)\n",
    "# Count occurrences of each unique value in 'Category'\n",
    "value_counts = df['Category'].value_counts()\n",
    "print(\"Value Counts:\\n\", value_counts)"
   ]
  },
  {
   "cell_type": "code",
   "execution_count": 4,
   "id": "f07b3823-2b6b-4fc6-8e2d-44a9ef45ae95",
   "metadata": {},
   "outputs": [
    {
     "name": "stdout",
     "output_type": "stream",
     "text": [
      "Result of map:\n",
      " 0     Apple\n",
      "1    Banana\n",
      "2     Apple\n",
      "3    Cherry\n",
      "4     Apple\n",
      "5    Banana\n",
      "6    Banana\n",
      "7    Cherry\n",
      "Name: Category, dtype: object\n"
     ]
    }
   ],
   "source": [
    "# map():\n",
    "# map() is used to map values from one domain to another.\n",
    "\n",
    "mapping = {'A': 'Apple', 'B': 'Banana', 'C': 'Cherry'}\n",
    "# Map values in 'Category' column\n",
    "result_map = df['Category'].map(mapping)\n",
    "print(\"Result of map:\\n\", result_map)"
   ]
  },
  {
   "cell_type": "code",
   "execution_count": 6,
   "id": "0dbc790a-cf6b-417d-ae70-0c6e844cfe6f",
   "metadata": {},
   "outputs": [
    {
     "name": "stdout",
     "output_type": "stream",
     "text": [
      "   A   B    C\n",
      "0  2  20  200\n",
      "1  4  40  400\n",
      "2  6  60  600\n",
      "3  8  80  800\n"
     ]
    }
   ],
   "source": [
    "import pandas as pd\n",
    "data = {\n",
    "    'A': [1, 2, 3, 4],\n",
    "    'B': [10, 20, 30, 40],\n",
    "    'C': [100, 200, 300, 400]\n",
    "}\n",
    "\n",
    "df = pd.DataFrame(data)\n",
    "\n",
    "# Function to multiply by 2\n",
    "def multiply_by_2(x):\n",
    "    return x * 2\n",
    "# Apply the function to each column\n",
    "df_applied = df.apply(multiply_by_2)\n",
    "print(df_applied)"
   ]
  },
  {
   "cell_type": "code",
   "execution_count": 7,
   "id": "8deff245-a05a-45f0-96e1-fe82d41217b7",
   "metadata": {},
   "outputs": [
    {
     "name": "stdout",
     "output_type": "stream",
     "text": [
      "   A   B    C  Row_Sum\n",
      "0  1  10  100      111\n",
      "1  2  20  200      222\n",
      "2  3  30  300      333\n",
      "3  4  40  400      444\n"
     ]
    }
   ],
   "source": [
    "# Apply a Function to Each Row\n",
    "# Function to sum up the values in a row\n",
    "def sum_row(row):\n",
    "    return row.sum()\n",
    "# Apply the function to each row\n",
    "df['Row_Sum'] = df.apply(sum_row, axis=1)\n",
    "\n",
    "print(df)"
   ]
  },
  {
   "cell_type": "code",
   "execution_count": 8,
   "id": "852c90a7-70cd-42ac-9145-943f5112f9bf",
   "metadata": {},
   "outputs": [
    {
     "name": "stdout",
     "output_type": "stream",
     "text": [
      "Category\n",
      "A     250\n",
      "B     450\n",
      "C    1050\n",
      "Name: Values, dtype: int64\n"
     ]
    }
   ],
   "source": [
    "#groupby()\n",
    "import pandas as pd\n",
    "data = {\n",
    "    'Category': ['A', 'A', 'B', 'B', 'C', 'C', 'C'],\n",
    "    'Values': [100, 150, 200, 250, 300, 350, 400]\n",
    "}\n",
    "df = pd.DataFrame(data)\n",
    "# Group by 'Category' and calculate the sum of 'Values'\n",
    "grouped = df.groupby('Category')['Values'].sum()\n",
    "\n",
    "print(grouped)"
   ]
  },
  {
   "cell_type": "code",
   "execution_count": 10,
   "id": "270fa5df-2129-4842-b097-01953648a8c4",
   "metadata": {},
   "outputs": [
    {
     "name": "stdout",
     "output_type": "stream",
     "text": [
      "['A' 'B' 'C']\n"
     ]
    }
   ],
   "source": [
    "# unique Method\n",
    "# The unique method returns an array of the unique values in a Series.\n",
    "import pandas as pd\n",
    "\n",
    "data = {\n",
    "    'Category': ['A', 'A', 'B', 'B', 'C', 'C', 'C'],\n",
    "    'Values': [100, 150, 200, 250, 300, 350, 400]\n",
    "}\n",
    "\n",
    "df = pd.DataFrame(data)\n",
    "# Get unique values in the 'Category' column\n",
    "unique_categories = df['Category'].unique()\n",
    "print(unique_categories)\n"
   ]
  },
  {
   "cell_type": "code",
   "execution_count": 11,
   "id": "222037be-ea53-43fe-897a-116dc9025911",
   "metadata": {},
   "outputs": [
    {
     "name": "stdout",
     "output_type": "stream",
     "text": [
      "3\n"
     ]
    }
   ],
   "source": [
    "# nunique method\n",
    "# Get the number of unique values in the 'Category' column\n",
    "num_unique_categories = df['Category'].nunique()\n",
    "print(num_unique_categories)"
   ]
  },
  {
   "cell_type": "code",
   "execution_count": 12,
   "id": "5cee4123-d6f5-4156-b54d-bc0bc9c5780f",
   "metadata": {},
   "outputs": [
    {
     "name": "stdout",
     "output_type": "stream",
     "text": [
      "Category    3\n",
      "Values      7\n",
      "dtype: int64\n"
     ]
    }
   ],
   "source": [
    "# Get the number of unique values in each column\n",
    "num_unique_each_column = df.nunique()\n",
    "print(num_unique_each_column)"
   ]
  },
  {
   "cell_type": "code",
   "execution_count": 13,
   "id": "197a65de-1dc1-4051-b918-f281a2e42e33",
   "metadata": {},
   "outputs": [
    {
     "name": "stdout",
     "output_type": "stream",
     "text": [
      "['A' 'B' 'C' None]\n"
     ]
    }
   ],
   "source": [
    "# Handling NaN Values\n",
    "# By default, unique includes NaN values, while nunique excludes NaN values unless specified otherwise. Here is an example:\n",
    "data_with_nan = {\n",
    "    'Category': ['A', 'A', 'B', 'B', 'C', 'C', None],\n",
    "    'Values': [100, 150, 200, 250, 300, 350, 400]\n",
    "}\n",
    "\n",
    "df_with_nan = pd.DataFrame(data_with_nan)\n",
    "# Get unique values in the 'Category' column, including NaN\n",
    "unique_categories_with_nan = df_with_nan['Category'].unique()\n",
    "print(unique_categories_with_nan)"
   ]
  },
  {
   "cell_type": "code",
   "execution_count": 15,
   "id": "15e4e30b-ff92-40b0-9234-e43a0e16bebc",
   "metadata": {},
   "outputs": [
    {
     "name": "stdout",
     "output_type": "stream",
     "text": [
      "  Category  Values\n",
      "6        A     400\n",
      "4        C     350\n",
      "1        C     300\n",
      "5        B     250\n",
      "2        B     200\n",
      "3        A     150\n",
      "0        A     100\n"
     ]
    }
   ],
   "source": [
    "# sort_values()\n",
    "# Sorting a DataFrame by a Single Column\n",
    "import pandas as pd\n",
    "data = {\n",
    "    'Category': ['A', 'C', 'B', 'A', 'C', 'B', 'A'],\n",
    "    'Values': [100, 300, 200, 150, 350, 250, 400]\n",
    "}\n",
    "df = pd.DataFrame(data)\n",
    "# Sort by 'Values' column in descending order\n",
    "sorted_df = df.sort_values(by='Values',ascending=False)\n",
    "print(sorted_df)"
   ]
  },
  {
   "cell_type": "code",
   "execution_count": 18,
   "id": "f6146e56-e8ae-4a53-b7f0-7dd15d55a384",
   "metadata": {},
   "outputs": [
    {
     "name": "stdout",
     "output_type": "stream",
     "text": [
      "  Key  Value1  Value2\n",
      "0   B       2       5\n",
      "1   D       4       6\n"
     ]
    }
   ],
   "source": [
    "# Merge\n",
    "import pandas as pd\n",
    "df1 = pd.DataFrame({\n",
    "    'Key': ['A', 'B', 'C', 'D'],\n",
    "    'Value1': [1, 2, 3, 4]\n",
    "})\n",
    "df2 = pd.DataFrame({\n",
    "    'Key': ['B', 'D', 'E', 'F'],\n",
    "    'Value2': [5, 6, 7, 8]\n",
    "})\n",
    "merged_df = pd.merge(df1, df2, on='Key')\n",
    "print(merged_df)"
   ]
  },
  {
   "cell_type": "code",
   "execution_count": 19,
   "id": "ebb8a7fe-fd48-4ee3-b755-80a56cf4c8fb",
   "metadata": {},
   "outputs": [
    {
     "name": "stdout",
     "output_type": "stream",
     "text": [
      "Descriptive Statistics:\n",
      "               A          B           C\n",
      "count  5.000000   5.000000    5.000000\n",
      "mean   3.000000  30.000000  300.000000\n",
      "std    1.581139  15.811388  158.113883\n",
      "min    1.000000  10.000000  100.000000\n",
      "25%    2.000000  20.000000  200.000000\n",
      "50%    3.000000  30.000000  300.000000\n",
      "75%    4.000000  40.000000  400.000000\n",
      "max    5.000000  50.000000  500.000000\n"
     ]
    }
   ],
   "source": [
    "# describe()\n",
    "# describe() generates descriptive statistics for the DataFrame.\n",
    "import pandas as pd\n",
    "data = {'A': [1, 2, 3, 4, 5], 'B': [10, 20, 30, 40, 50], 'C': [100, 200, 300, 400, 500]}\n",
    "df = pd.DataFrame(data)\n",
    "# Generate descriptive statistics\n",
    "desc_stats = df.describe()\n",
    "print(\"Descriptive Statistics:\\n\", desc_stats)"
   ]
  },
  {
   "cell_type": "code",
   "execution_count": 20,
   "id": "3ed26aa6-ab35-4e45-bb4b-35322f876d31",
   "metadata": {},
   "outputs": [
    {
     "name": "stdout",
     "output_type": "stream",
     "text": [
      "  Category  Values\n",
      "0        X       1\n",
      "1        B       2\n",
      "2        C       3\n",
      "3        X       4\n",
      "4        B       5\n",
      "5        C       6\n"
     ]
    }
   ],
   "source": [
    "# Replacing Specific Values\n",
    "import pandas as pd\n",
    "data = {\n",
    "    'Category': ['A', 'B', 'C', 'A', 'B', 'C'],\n",
    "    'Values': [1, 2, 3, 4, 5, 6]\n",
    "}\n",
    "\n",
    "df = pd.DataFrame(data)\n",
    "# Replace 'A' with 'X' in 'Category' column\n",
    "df_replaced = df.replace({'Category': {'A': 'X'}})\n",
    "print(df_replaced)"
   ]
  },
  {
   "cell_type": "code",
   "execution_count": 21,
   "id": "ba9b2bbf-b354-4fa8-90ae-27c872e703be",
   "metadata": {},
   "outputs": [
    {
     "name": "stdout",
     "output_type": "stream",
     "text": [
      "   Alpha  Beta    C\n",
      "0      1    10  100\n",
      "1      2    20  200\n",
      "2      3    30  300\n",
      "3      4    40  400\n"
     ]
    }
   ],
   "source": [
    "#  Renaming Columns\n",
    "import pandas as pd\n",
    "data = {\n",
    "    'A': [1, 2, 3, 4],\n",
    "    'B': [10, 20, 30, 40],\n",
    "    'C': [100, 200, 300, 400]\n",
    "}\n",
    "\n",
    "df = pd.DataFrame(data)\n",
    "# To rename columns 'A' to 'Alpha' and 'B' to 'Beta':\n",
    "df_renamed = df.rename(columns={'A': 'Alpha', 'B': 'Beta'})\n",
    "print(df_renamed)"
   ]
  }
 ],
 "metadata": {
  "kernelspec": {
   "display_name": "Python 3 (ipykernel)",
   "language": "python",
   "name": "python3"
  },
  "language_info": {
   "codemirror_mode": {
    "name": "ipython",
    "version": 3
   },
   "file_extension": ".py",
   "mimetype": "text/x-python",
   "name": "python",
   "nbconvert_exporter": "python",
   "pygments_lexer": "ipython3",
   "version": "3.11.7"
  }
 },
 "nbformat": 4,
 "nbformat_minor": 5
}

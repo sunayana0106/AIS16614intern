{
 "cells": [
  {
   "cell_type": "markdown",
   "id": "97818a87-f6be-47f3-a8c9-37ae57586bd8",
   "metadata": {},
   "source": [
    "# If else condition"
   ]
  },
  {
   "cell_type": "markdown",
   "id": "66d36562-a5d2-4dd4-810f-0e72288c89fc",
   "metadata": {},
   "source": [
    "* An if statement executes a block of code only if the specified condition is met.\n",
    "* The if...else statement is used to execute a block of code among two alternatives\n",
    "* The else keyword catches anything which isn't caught by the preceding conditions.            \n",
    "* Syntax       \n",
    "     if condition:  \n",
    "    #body of if statement\n",
    "\n",
    "Here, if the condition of the if statement is:      \n",
    "True - the body of the if statement executes.       \n",
    "False - the body of the if statement is skipped from execution.       "
   ]
  },
  {
   "cell_type": "markdown",
   "id": "4514811d-ce35-4127-814b-03d89ef93e6d",
   "metadata": {},
   "source": [
    "* EXAMPLES"
   ]
  },
  {
   "cell_type": "code",
   "execution_count": 2,
   "id": "daa65fa7-04bb-4310-a3a8-3526aa0bedd2",
   "metadata": {},
   "outputs": [
    {
     "name": "stdin",
     "output_type": "stream",
     "text": [
      "enter any number: 6\n"
     ]
    },
    {
     "name": "stdout",
     "output_type": "stream",
     "text": [
      "given number is positive\n"
     ]
    }
   ],
   "source": [
    "a=int(input(\"enter any number:\"))\n",
    "if a>0:\n",
    "    print(\"given number is positive\")\n",
    "else:\n",
    "    print(\"given number is negative\")"
   ]
  },
  {
   "cell_type": "code",
   "execution_count": 3,
   "id": "32ccac8e-76bc-44b3-b5b3-1a7b98336e70",
   "metadata": {},
   "outputs": [
    {
     "name": "stdin",
     "output_type": "stream",
     "text": [
      "enter percentage: 54\n"
     ]
    },
    {
     "name": "stdout",
     "output_type": "stream",
     "text": [
      "You are Pass\n"
     ]
    }
   ],
   "source": [
    "marks=int(input(\"enter percentage:\"))\n",
    "if marks>=35:\n",
    "    print(\"You are Pass\")\n",
    "else:\n",
    "    print(\"you are Fail\")"
   ]
  },
  {
   "cell_type": "code",
   "execution_count": 4,
   "id": "6e8283ff-62fb-48de-869e-fb1e44296193",
   "metadata": {},
   "outputs": [
    {
     "name": "stdin",
     "output_type": "stream",
     "text": [
      "Enter a letter: g\n"
     ]
    },
    {
     "name": "stdout",
     "output_type": "stream",
     "text": [
      "given letter is consanant\n"
     ]
    }
   ],
   "source": [
    "x=[\"a\",\"e\",\"i\",\"o\",\"u\"]\n",
    "letter=str(input(\"Enter a letter:\"))\n",
    "if letter in x:\n",
    "    print(\"given letter is vowel\")\n",
    "else:\n",
    "    print(\"given letter is consanant\")"
   ]
  },
  {
   "cell_type": "code",
   "execution_count": 5,
   "id": "592bfc87-7e2a-4bab-a939-2615c10df901",
   "metadata": {},
   "outputs": [
    {
     "name": "stdin",
     "output_type": "stream",
     "text": [
      "enter your mobile number: 983783209\n"
     ]
    },
    {
     "name": "stdout",
     "output_type": "stream",
     "text": [
      "invalid mobile number\n"
     ]
    }
   ],
   "source": [
    "no=(input(\"enter your mobile number:\"))\n",
    "if len(no)==10:\n",
    "    print(\"Valid Mobile Number\")\n",
    "else:\n",
    "    print(\"invalid mobile number\")"
   ]
  },
  {
   "cell_type": "code",
   "execution_count": 6,
   "id": "9e60870f-d76d-4d59-9701-1eea9240f393",
   "metadata": {},
   "outputs": [
    {
     "name": "stdin",
     "output_type": "stream",
     "text": [
      "enter any number 7\n"
     ]
    },
    {
     "name": "stdout",
     "output_type": "stream",
     "text": [
      "a is odd number\n"
     ]
    }
   ],
   "source": [
    "a=int(input(\"enter any number\"))\n",
    "if a%2==0:\n",
    "    print(\"a is even number\")\n",
    "else:\n",
    "    print(\"a is odd number\")"
   ]
  },
  {
   "cell_type": "code",
   "execution_count": 7,
   "id": "0f6d84ca-1d11-4c34-93fd-f2e54919580e",
   "metadata": {},
   "outputs": [
    {
     "name": "stdin",
     "output_type": "stream",
     "text": [
      "enter any number: 56\n",
      "enter any number: 98\n"
     ]
    },
    {
     "name": "stdout",
     "output_type": "stream",
     "text": [
      "b is greater than a\n"
     ]
    }
   ],
   "source": [
    "a=int(input(\"enter any number:\"))\n",
    "b=int(input(\"enter any number:\"))\n",
    "if a>b:\n",
    "    print(\"a is greater than b\")\n",
    "else:\n",
    "    print(\"b is greater than a\")"
   ]
  },
  {
   "cell_type": "code",
   "execution_count": 8,
   "id": "b5795fc1-4163-4143-afed-09fdf54ecc9b",
   "metadata": {},
   "outputs": [
    {
     "name": "stdout",
     "output_type": "stream",
     "text": [
      "fail\n"
     ]
    }
   ],
   "source": [
    "grade = 40\n",
    "if grade >= 50:\n",
    "    result = 'pass'\n",
    "else:\n",
    "    result = 'fail'\n",
    "print(result)"
   ]
  },
  {
   "cell_type": "code",
   "execution_count": 10,
   "id": "6781347e-a269-49db-8ed6-75079b5666da",
   "metadata": {},
   "outputs": [
    {
     "name": "stdout",
     "output_type": "stream",
     "text": [
      "Above ten,\n",
      "and also above 20\n"
     ]
    }
   ],
   "source": [
    "x = 41\n",
    "if x > 10:\n",
    "  print(\"Above ten,\")\n",
    "  if x > 20:\n",
    "    print(\"and also above 20\")\n",
    "  else:\n",
    "    print(\"but not above 20.\")"
   ]
  },
  {
   "cell_type": "code",
   "execution_count": 11,
   "id": "fdfa9812-4989-46eb-8e68-29a972945975",
   "metadata": {},
   "outputs": [
    {
     "name": "stdin",
     "output_type": "stream",
     "text": [
      "enter the year: 2016\n"
     ]
    },
    {
     "name": "stdout",
     "output_type": "stream",
     "text": [
      "Leap year\n"
     ]
    }
   ],
   "source": [
    "year=int(input(\"enter the year:\"))\n",
    "if year%4==0:\n",
    "    print(\"Leap year\")\n",
    "else:\n",
    "    print(\"not a Leap year\")"
   ]
  },
  {
   "cell_type": "code",
   "execution_count": 13,
   "id": "3ed61466-f034-46c3-9eb1-ddf119f6cf2e",
   "metadata": {},
   "outputs": [
    {
     "name": "stdin",
     "output_type": "stream",
     "text": [
      "Enter your score:  98\n"
     ]
    },
    {
     "name": "stdout",
     "output_type": "stream",
     "text": [
      "A grade\n"
     ]
    }
   ],
   "source": [
    "score = int(input(\"Enter your score: \"))\n",
    "if score >= 90:\n",
    "    print(\"A grade\")\n",
    "else:\n",
    "    if score >= 80:\n",
    "         print(\"B grade\")\n",
    "    else:\n",
    "        if score >= 70:\n",
    "             print(\"C grade\")\n",
    "        else:\n",
    "            if score >= 60:\n",
    "                print(\"D grade\")\n",
    "            else:\n",
    "                print(\"F Grade\")"
   ]
  }
 ],
 "metadata": {
  "kernelspec": {
   "display_name": "Python 3 (ipykernel)",
   "language": "python",
   "name": "python3"
  },
  "language_info": {
   "codemirror_mode": {
    "name": "ipython",
    "version": 3
   },
   "file_extension": ".py",
   "mimetype": "text/x-python",
   "name": "python",
   "nbconvert_exporter": "python",
   "pygments_lexer": "ipython3",
   "version": "3.11.7"
  }
 },
 "nbformat": 4,
 "nbformat_minor": 5
}

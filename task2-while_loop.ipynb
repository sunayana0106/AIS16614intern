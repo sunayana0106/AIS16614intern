{
 "cells": [
  {
   "cell_type": "markdown",
   "id": "415d5b3c-106e-407d-9e5f-cedfa6105052",
   "metadata": {},
   "source": [
    "# While loop"
   ]
  },
  {
   "cell_type": "markdown",
   "id": "14ae5bee-160a-4fb5-8640-7377d488a814",
   "metadata": {},
   "source": [
    "* With the while loop we can execute a set of statements as long as a condition is true.       \n",
    "* A while loop in Python is used to repeatedly execute a block of code as long as a specified condition is true.    \n",
    "* Using while loops effectively requires careful consideration of the condition and ensuring that the loop will terminate to avoid infinite loops.       \n",
    "* The condition is a Boolean expression that is evaluated at the beginning of each iteration. If the condition is true, the loop continues; otherwise,       it terminates."
   ]
  },
  {
   "cell_type": "markdown",
   "id": "8031473b-6285-4454-be13-4988b9c4ffd2",
   "metadata": {},
   "source": [
    "* Syntax     \n",
    "  while condition:   \n",
    "    #code block to be executed  "
   ]
  },
  {
   "cell_type": "markdown",
   "id": "58572184-3ddd-49ec-b58d-753b313d068b",
   "metadata": {},
   "source": [
    "* EXAMPLES"
   ]
  },
  {
   "cell_type": "code",
   "execution_count": 1,
   "id": "42e93b6e-1361-4bc9-b04c-0b3e6aa795d9",
   "metadata": {},
   "outputs": [
    {
     "name": "stdout",
     "output_type": "stream",
     "text": [
      "1\n",
      "2\n",
      "3\n",
      "4\n",
      "5\n"
     ]
    }
   ],
   "source": [
    "i = 1\n",
    "while i < 6:\n",
    "  print(i)\n",
    "  i += 1"
   ]
  },
  {
   "cell_type": "code",
   "execution_count": 3,
   "id": "2dda11dc-73ed-4468-bbe3-9755171db724",
   "metadata": {},
   "outputs": [
    {
     "name": "stdout",
     "output_type": "stream",
     "text": [
      "1\n",
      "2\n",
      "3\n",
      "4\n",
      "5\n",
      "i is no longer less than 6\n"
     ]
    }
   ],
   "source": [
    "i = 1\n",
    "while i < 6:\n",
    "  print(i)\n",
    "  i += 1\n",
    "else:\n",
    "  print(\"i is no longer less than 6\")"
   ]
  },
  {
   "cell_type": "code",
   "execution_count": 4,
   "id": "681073b7-a781-43ba-8176-25d398f566dd",
   "metadata": {},
   "outputs": [
    {
     "name": "stdout",
     "output_type": "stream",
     "text": [
      "1\n",
      "3\n",
      "5\n",
      "7\n",
      "9\n"
     ]
    }
   ],
   "source": [
    "count = 0\n",
    "while count < 10:\n",
    "    count += 1\n",
    "    if count % 2 == 0:\n",
    "        continue  \n",
    "    print(count) "
   ]
  },
  {
   "cell_type": "code",
   "execution_count": 5,
   "id": "6cb4b92a-cf25-48d6-8958-5782006b8016",
   "metadata": {},
   "outputs": [
    {
     "name": "stdout",
     "output_type": "stream",
     "text": [
      "Sum of numbers from 1 to 10 is: 55\n"
     ]
    }
   ],
   "source": [
    "sum = 0\n",
    "num = 1\n",
    "while num <= 10:\n",
    "    sum += num\n",
    "    num += 1\n",
    "print(f\"Sum of numbers from 1 to 10 is: {sum}\")"
   ]
  },
  {
   "cell_type": "code",
   "execution_count": 7,
   "id": "be8850bd-f317-465d-8730-5d244f4527ed",
   "metadata": {},
   "outputs": [
    {
     "name": "stdout",
     "output_type": "stream",
     "text": [
      "1\n",
      "2\n",
      "3\n",
      "6\n"
     ]
    }
   ],
   "source": [
    "number = 6\n",
    "i = 1\n",
    "while i <= number:\n",
    "    if number % i == 0:\n",
    "        print(i)  \n",
    "    i += 1\n"
   ]
  },
  {
   "cell_type": "code",
   "execution_count": 8,
   "id": "d7f029cd-7a40-4d50-bfad-408bbde5b761",
   "metadata": {},
   "outputs": [
    {
     "name": "stdout",
     "output_type": "stream",
     "text": [
      "Removed date, remaining fruits: ['apple', 'banana', 'cherry']\n",
      "Removed cherry, remaining fruits: ['apple', 'banana']\n",
      "Removed banana, remaining fruits: ['apple']\n",
      "Removed apple, remaining fruits: []\n"
     ]
    }
   ],
   "source": [
    "fruits = [\"apple\", \"banana\", \"cherry\", \"date\"]\n",
    "while fruits:\n",
    "    fruit = fruits.pop()  \n",
    "    print(f\"Removed {fruit}, remaining fruits: {fruits}\")"
   ]
  },
  {
   "cell_type": "code",
   "execution_count": 9,
   "id": "bc6710c0-ace3-41f5-885c-97a6ff5d7085",
   "metadata": {},
   "outputs": [
    {
     "name": "stdout",
     "output_type": "stream",
     "text": [
      "Processing order 1 for 2 Laptop(s)\n",
      "Processing order 2 for 5 Mouse(s)\n",
      "Processing order 3 for 3 Keyboard(s)\n"
     ]
    }
   ],
   "source": [
    "# Example order processing system\n",
    "orders = [{\"id\": 1, \"item\": \"Laptop\", \"quantity\": 2},\n",
    "          {\"id\": 2, \"item\": \"Mouse\", \"quantity\": 5},\n",
    "          {\"id\": 3, \"item\": \"Keyboard\", \"quantity\": 3}]\n",
    "while orders:\n",
    "    current_order = orders.pop(0)  \n",
    "    print(f\"Processing order {current_order['id']} for {current_order['quantity']} {current_order['item']}(s)\")\n"
   ]
  },
  {
   "cell_type": "code",
   "execution_count": 10,
   "id": "b13ca06d-e1c8-475a-80dd-6e1896121b23",
   "metadata": {},
   "outputs": [
    {
     "name": "stdout",
     "output_type": "stream",
     "text": [
      "Factorial of 5 is 120\n"
     ]
    }
   ],
   "source": [
    "num = 5\n",
    "factorial = 1\n",
    "i = 1\n",
    "while i <= num:\n",
    "    factorial *= i\n",
    "    i += 1\n",
    "print(f\"Factorial of {num} is {factorial}\")"
   ]
  },
  {
   "cell_type": "code",
   "execution_count": 11,
   "id": "f3701359-9188-4be8-8418-15770586b3f1",
   "metadata": {},
   "outputs": [
    {
     "name": "stdout",
     "output_type": "stream",
     "text": [
      "GCD of 48 and 18 is 6\n"
     ]
    }
   ],
   "source": [
    "def gcd(a, b):\n",
    "    while b != 0:\n",
    "        a, b = b, a % b\n",
    "    return a\n",
    "num1 = 48\n",
    "num2 = 18\n",
    "print(f\"GCD of {num1} and {num2} is {gcd(num1, num2)}\")\n"
   ]
  },
  {
   "cell_type": "code",
   "execution_count": 12,
   "id": "ad62e5f8-8fca-4842-9d01-86bae9ad8e5b",
   "metadata": {},
   "outputs": [
    {
     "name": "stdout",
     "output_type": "stream",
     "text": [
      "0\n",
      "1\n",
      "1\n",
      "2\n",
      "3\n",
      "5\n",
      "8\n",
      "13\n",
      "21\n",
      "34\n"
     ]
    }
   ],
   "source": [
    "n = 10\n",
    "a, b = 0, 1\n",
    "count = 0\n",
    "while count < n:\n",
    "    print(a)\n",
    "    a, b = b, a + b\n",
    "    count += 1"
   ]
  },
  {
   "cell_type": "code",
   "execution_count": 13,
   "id": "8e26af3f-0b33-4434-824f-ff5048a6efd2",
   "metadata": {},
   "outputs": [
    {
     "name": "stdin",
     "output_type": "stream",
     "text": [
      "Enter any number 29\n"
     ]
    },
    {
     "name": "stdout",
     "output_type": "stream",
     "text": [
      "29 is a prime number\n"
     ]
    }
   ],
   "source": [
    "num =int(input(\"Enter any number\"))\n",
    "is_prime = True\n",
    "i = 2\n",
    "\n",
    "while i <= num // 2:\n",
    "    if num % i == 0:\n",
    "        is_prime = False\n",
    "        break\n",
    "    i += 1\n",
    "\n",
    "if is_prime and num > 1:\n",
    "    print(f\"{num} is a prime number\")\n",
    "else:\n",
    "    print(f\"{num} is not a prime number\")\n"
   ]
  }
 ],
 "metadata": {
  "kernelspec": {
   "display_name": "Python 3 (ipykernel)",
   "language": "python",
   "name": "python3"
  },
  "language_info": {
   "codemirror_mode": {
    "name": "ipython",
    "version": 3
   },
   "file_extension": ".py",
   "mimetype": "text/x-python",
   "name": "python",
   "nbconvert_exporter": "python",
   "pygments_lexer": "ipython3",
   "version": "3.11.7"
  }
 },
 "nbformat": 4,
 "nbformat_minor": 5
}

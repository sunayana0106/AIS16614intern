{
 "cells": [
  {
   "cell_type": "markdown",
   "id": "02ddb184-0751-4aa7-8eb8-692263842978",
   "metadata": {},
   "source": [
    "# For loop"
   ]
  },
  {
   "cell_type": "markdown",
   "id": "5d0f603c-9d52-4938-883f-fca9d16051bb",
   "metadata": {},
   "source": [
    "* A for loop is used for iterating over a sequence (that is either a list, a tuple, a dictionary, a set, or a string).     \n",
    "* This is less like the for keyword in other programming languages, and works more like an iterator method as found in other object-orientated programming   languages.    \n",
    "* With the for loop we can execute a set of statements, once for each item in a list, tuple, set etc.\n",
    "* The for loop does not require an indexing variable to set beforehand.\n",
    "* For loop is a control flow statement in programming that allows you to execute a block of code repeatedly based on a specified    condition.\n",
    "* It is commonly used when you know how many times you want to execute a block of code."
   ]
  },
  {
   "cell_type": "markdown",
   "id": "f9989a80-6829-40d7-a905-147416e9f811",
   "metadata": {},
   "source": [
    "* Syntax     \n",
    "    for (initialisation; condition; increment/decrement){//code to be executed repeatedly}"
   ]
  },
  {
   "cell_type": "code",
   "execution_count": 2,
   "id": "4aa62387-4230-4cc0-89b4-4f429700a1af",
   "metadata": {},
   "outputs": [
    {
     "name": "stdout",
     "output_type": "stream",
     "text": [
      "[0, 1, 4, 9, 16, 25, 36, 49, 64, 81]\n"
     ]
    }
   ],
   "source": [
    "squares = [x**2 for x in range(10)]\n",
    "print(squares)"
   ]
  },
  {
   "cell_type": "code",
   "execution_count": 8,
   "id": "f1e8da8e-fed0-4f00-aa3c-ed70a6ac115a",
   "metadata": {},
   "outputs": [
    {
     "name": "stdout",
     "output_type": "stream",
     "text": [
      "2\n",
      "4\n",
      "6\n",
      "8\n",
      "10\n",
      "12\n",
      "14\n",
      "16\n",
      "18\n"
     ]
    }
   ],
   "source": [
    "for x in range(1,10):\n",
    "    print(x*2)"
   ]
  },
  {
   "cell_type": "code",
   "execution_count": 9,
   "id": "c260bab7-4f1d-4bcd-b429-930d82c6d93a",
   "metadata": {},
   "outputs": [
    {
     "name": "stdout",
     "output_type": "stream",
     "text": [
      "p\n",
      "y\n",
      "t\n",
      "h\n",
      "o\n",
      "n\n",
      "i\n",
      "s\n",
      "t\n",
      "a\n"
     ]
    }
   ],
   "source": [
    "word = \"pythonista\"\n",
    "for letter in word:\n",
    "    print(letter)"
   ]
  },
  {
   "cell_type": "code",
   "execution_count": 12,
   "id": "9267a40f-bb85-4a1b-9716-2905ed302510",
   "metadata": {},
   "outputs": [
    {
     "name": "stdout",
     "output_type": "stream",
     "text": [
      "1 Python\n",
      "2 Java\n",
      "3 CSharp\n"
     ]
    }
   ],
   "source": [
    "a1 = ['Python', 'Java', 'CSharp']\n",
    "b2 = [1, 2, 3]\n",
    "for i, j in zip(b2,a1):\n",
    "    print(i,j)"
   ]
  },
  {
   "cell_type": "code",
   "execution_count": 13,
   "id": "73119bd8-45b8-4668-802f-05c7738c5270",
   "metadata": {},
   "outputs": [
    {
     "name": "stdout",
     "output_type": "stream",
     "text": [
      "store_1: $450\n",
      "store_2: $360\n",
      "store_3: $390\n"
     ]
    }
   ],
   "source": [
    "sales_data = {\n",
    "    'store_1': [100, 150, 200],\n",
    "    'store_2': [80, 120, 160],\n",
    "    'store_3': [90, 130, 170]\n",
    "}\n",
    "\n",
    "# Calculate total sales for each store\n",
    "total_sales = {}\n",
    "for store, sales in sales_data.items():\n",
    "    total_sales[store] = sum(sales)\n",
    "\n",
    "# Print total sales per store\n",
    "for store, total in total_sales.items():\n",
    "    print(f\"{store}: ${total}\")"
   ]
  },
  {
   "cell_type": "code",
   "execution_count": 15,
   "id": "1df6e2c9-6d74-45cf-8442-d4e1608bdf99",
   "metadata": {},
   "outputs": [
    {
     "name": "stdout",
     "output_type": "stream",
     "text": [
      "Marketing - Total: $5100, Average: $1275.00\n",
      "Sales - Total: $3500, Average: $875.00\n",
      "R&D - Total: $8600, Average: $2150.00\n"
     ]
    }
   ],
   "source": [
    "# Monthly expenses for different departments\n",
    "expenses = {\n",
    "    'Marketing': [1200, 1500, 1100, 1300],\n",
    "    'Sales': [800, 900, 850, 950],\n",
    "    'R&D': [2000, 2100, 2200, 2300]\n",
    "}\n",
    "\n",
    "# Calculate total and average expenses for each department\n",
    "aggregated_expenses = {}\n",
    "for department, values in expenses.items():\n",
    "    total_expense = sum(values)\n",
    "    average_expense = total_expense / len(values)\n",
    "    aggregated_expenses[department] = {'total': total_expense, 'average': average_expense}\n",
    "\n",
    "# Print the aggregated expenses\n",
    "for department, data in aggregated_expenses.items():\n",
    "    print(f\"{department} - Total: ${data['total']}, Average: ${data['average']:.2f}\")"
   ]
  },
  {
   "cell_type": "code",
   "execution_count": 1,
   "id": "852a387c-4c47-407f-9490-1469ca560ce3",
   "metadata": {},
   "outputs": [
    {
     "name": "stdout",
     "output_type": "stream",
     "text": [
      "6\n"
     ]
    }
   ],
   "source": [
    "numbers = [12, 3, 56, 67, 89, 90]\n",
    "count = 0\n",
    "for n in numbers:\n",
    "    count += 1\n",
    "print(count)"
   ]
  },
  {
   "cell_type": "code",
   "execution_count": 4,
   "id": "8c6666a3-192b-4ebb-9d8e-3ffc324cc020",
   "metadata": {},
   "outputs": [
    {
     "name": "stdout",
     "output_type": "stream",
     "text": [
      "2 is a prime number\n",
      "3 is a prime number\n",
      "4 equals 2 * 2\n",
      "5 is a prime number\n",
      "6 equals 2 * 3\n",
      "7 is a prime number\n",
      "8 equals 2 * 4\n",
      "9 equals 3 * 3\n"
     ]
    }
   ],
   "source": [
    "for num in range(2, 10):\n",
    "    for i in range(2, num):\n",
    "        if num % i == 0:\n",
    "            print(f\"{num} equals {i} * {num//i}\")\n",
    "            break\n",
    "    else:\n",
    "        print(f\"{num} is a prime number\")"
   ]
  },
  {
   "cell_type": "code",
   "execution_count": 7,
   "id": "753c5817-bd49-4d35-a907-64000ca605fe",
   "metadata": {},
   "outputs": [
    {
     "name": "stdout",
     "output_type": "stream",
     "text": [
      "Car\n",
      "Cycle\n",
      "Tempo\n"
     ]
    }
   ],
   "source": [
    "vehicles = ['Car', 'Cycle', 'Bus', 'Tempo']\n",
    "for v in vehicles:\n",
    "    if v == \"Bus\":\n",
    "        continue\n",
    "    print(v)"
   ]
  },
  {
   "cell_type": "code",
   "execution_count": 8,
   "id": "8a2ccbce-06b9-43e4-a2cc-1925674a3e8d",
   "metadata": {},
   "outputs": [
    {
     "name": "stdout",
     "output_type": "stream",
     "text": [
      "Car\n",
      "Cycle\n"
     ]
    }
   ],
   "source": [
    "vehicles = ['Car', 'Cycle', 'Bus', 'Tempo']\n",
    "for v in vehicles:\n",
    "    if v == \"Bus\":\n",
    "        break\n",
    "    print(v)"
   ]
  }
 ],
 "metadata": {
  "kernelspec": {
   "display_name": "Python 3 (ipykernel)",
   "language": "python",
   "name": "python3"
  },
  "language_info": {
   "codemirror_mode": {
    "name": "ipython",
    "version": 3
   },
   "file_extension": ".py",
   "mimetype": "text/x-python",
   "name": "python",
   "nbconvert_exporter": "python",
   "pygments_lexer": "ipython3",
   "version": "3.11.7"
  }
 },
 "nbformat": 4,
 "nbformat_minor": 5
}

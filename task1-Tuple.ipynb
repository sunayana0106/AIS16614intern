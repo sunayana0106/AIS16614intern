{
 "cells": [
  {
   "cell_type": "markdown",
   "id": "ebc2d698-1770-47aa-8138-d447a3d0c724",
   "metadata": {},
   "source": [
    "# Python Tuple"
   ]
  },
  {
   "cell_type": "markdown",
   "id": "de05a8ca-9b86-4873-a5ea-95c6cdc73313",
   "metadata": {},
   "source": [
    "* immutable- cannot change or update\n",
    "* Tuples are used to store multiple items in a single variable.\n",
    "* Tuple is one of 4 built-in data types in Python used to store collections of data.\n",
    "* A tuple is a collection which is ordered, unchangeable, and allow duplicate values.\n",
    "* Tuples are written with round brackets."
   ]
  },
  {
   "cell_type": "code",
   "execution_count": 2,
   "id": "94b94a10-21fc-4019-a204-edf747ba979e",
   "metadata": {},
   "outputs": [
    {
     "name": "stdout",
     "output_type": "stream",
     "text": [
      "('sunayana', 'snehal', 'nisha', 'utkarsha')\n"
     ]
    }
   ],
   "source": [
    "tuple=(\"sunayana\",\"snehal\",\"nisha\",\"utkarsha\")\n",
    "print(tuple)"
   ]
  },
  {
   "cell_type": "code",
   "execution_count": 3,
   "id": "7992c9ab-e17e-4b69-a685-f464fc69bf50",
   "metadata": {},
   "outputs": [
    {
     "name": "stdout",
     "output_type": "stream",
     "text": [
      "sunayana\n"
     ]
    }
   ],
   "source": [
    "# indexing tuple item\n",
    "tuple=(\"sunayana\",\"snehal\",\"nisha\",\"utkarsha\")\n",
    "print(tuple[0])"
   ]
  },
  {
   "cell_type": "code",
   "execution_count": 4,
   "id": "3105528b-4baf-4af3-ac8a-b4fde619d679",
   "metadata": {},
   "outputs": [
    {
     "name": "stdout",
     "output_type": "stream",
     "text": [
      "('sunayana', 'snehal', 'nisha', 'utkarsha', 'sunayana')\n"
     ]
    }
   ],
   "source": [
    "# Allow duplicate\n",
    "tuple=(\"sunayana\",\"snehal\",\"nisha\",\"utkarsha\",\"sunayana\")\n",
    "print(tuple)"
   ]
  },
  {
   "cell_type": "code",
   "execution_count": 6,
   "id": "95817aab-6ee7-480b-9606-ca3d70becce8",
   "metadata": {},
   "outputs": [
    {
     "name": "stdout",
     "output_type": "stream",
     "text": [
      "4\n"
     ]
    }
   ],
   "source": [
    "# Tuple length\n",
    "tuple=(\"sunayana\",\"snehal\",\"nisha\",\"utkarsha\",)\n",
    "print(len(tuple))"
   ]
  },
  {
   "cell_type": "code",
   "execution_count": 7,
   "id": "d98708f0-242d-49a9-884a-862fa386e185",
   "metadata": {},
   "outputs": [
    {
     "name": "stdout",
     "output_type": "stream",
     "text": [
      "<class 'tuple'>\n",
      "<class 'str'>\n"
     ]
    }
   ],
   "source": [
    "# Tuple With One Item\n",
    "tuple = (\"sunayana\",)\n",
    "print(type(tuple))\n",
    "\n",
    "#NOT a tuple\n",
    "tuple = (\"sunayana\")\n",
    "print(type(tuple))"
   ]
  },
  {
   "cell_type": "code",
   "execution_count": 9,
   "id": "8b6108ff-88de-400b-9725-b65daf3a7534",
   "metadata": {},
   "outputs": [
    {
     "name": "stdout",
     "output_type": "stream",
     "text": [
      "<class 'tuple'>\n"
     ]
    }
   ],
   "source": [
    "# Tuple Items with different Data Types\n",
    "tuple=(\"sunayana\",2,49,True)\n",
    "print(type(tuple))"
   ]
  },
  {
   "cell_type": "code",
   "execution_count": 1,
   "id": "141eab38-672e-45e3-b1aa-45c69f67cf12",
   "metadata": {},
   "outputs": [
    {
     "name": "stdout",
     "output_type": "stream",
     "text": [
      "('sunayana', 'snehal', 'nisha', 'utkarsha')\n"
     ]
    }
   ],
   "source": [
    "# The tuple() Constructor\n",
    "# We can use the tuple() constructor to make a tuple.\n",
    "t=tuple((\"sunayana\",\"snehal\",\"nisha\",\"utkarsha\"))\n",
    "print(t)"
   ]
  },
  {
   "cell_type": "markdown",
   "id": "bd6c65de-c341-4478-80e4-6f4526325b76",
   "metadata": {},
   "source": [
    "* Tuple Methods"
   ]
  },
  {
   "cell_type": "raw",
   "id": "3ed9f341-bf7d-4d2b-8aba-a194835ce991",
   "metadata": {},
   "source": [
    " Method\t                      Description\n",
    "\n",
    "count()  \tReturns the number of times a specified value occurs in a tuple\n",
    "index() \tSearches the tuple for a specified value and returns the position of where it was found"
   ]
  },
  {
   "cell_type": "code",
   "execution_count": 20,
   "id": "f4c6fd57-402e-4b2e-9234-c2ad937bf2b9",
   "metadata": {},
   "outputs": [
    {
     "name": "stdout",
     "output_type": "stream",
     "text": [
      "2\n"
     ]
    }
   ],
   "source": [
    "# count() - Return the number of times the value appears in the tuple\n",
    "tuple = (\"sunayana\",\"snehal\",\"nisha\",\"utkarsha\",\"sunayana\")\n",
    "x =tuple.count(\"sunayana\")\n",
    "print(x)"
   ]
  },
  {
   "cell_type": "code",
   "execution_count": 21,
   "id": "d227ed90-bd7a-4984-a3d4-23bc555597a4",
   "metadata": {},
   "outputs": [
    {
     "name": "stdout",
     "output_type": "stream",
     "text": [
      "0\n"
     ]
    }
   ],
   "source": [
    "# index() - Search for the first occurrence of the value and return its position:\n",
    "tuple = (\"sunayana\",\"snehal\",\"nisha\",\"utkarsha\",\"sunayana\")\n",
    "x =tuple.index(\"sunayana\")\n",
    "print(x)"
   ]
  }
 ],
 "metadata": {
  "kernelspec": {
   "display_name": "Python 3 (ipykernel)",
   "language": "python",
   "name": "python3"
  },
  "language_info": {
   "codemirror_mode": {
    "name": "ipython",
    "version": 3
   },
   "file_extension": ".py",
   "mimetype": "text/x-python",
   "name": "python",
   "nbconvert_exporter": "python",
   "pygments_lexer": "ipython3",
   "version": "3.11.7"
  }
 },
 "nbformat": 4,
 "nbformat_minor": 5
}

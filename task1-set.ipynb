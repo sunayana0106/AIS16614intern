{
 "cells": [
  {
   "cell_type": "markdown",
   "id": "6e563cbe-4c05-46c2-9a75-84e521ce2354",
   "metadata": {},
   "source": [
    "# Python Sets"
   ]
  },
  {
   "cell_type": "markdown",
   "id": "34316870-5888-49d2-a120-b54983576fd0",
   "metadata": {},
   "source": [
    "* Sets are used to store multiple items in a single variable.\n",
    "* Set is one of 4 built-in data types in Python used to store collections of data\n",
    "* A set is a collection which is unordered, unchangeable*, and unindexed.\n",
    "* Set items are unchangeable, but you can remove items and add new items.\n",
    "* Sets are written with curly brackets.\n",
    "* Sets do not allow duplicate values."
   ]
  },
  {
   "cell_type": "code",
   "execution_count": 3,
   "id": "e537b862-1159-4673-99a8-fc63770fa63f",
   "metadata": {},
   "outputs": [
    {
     "name": "stdout",
     "output_type": "stream",
     "text": [
      "{'a', 'b', 'c'}\n"
     ]
    }
   ],
   "source": [
    "# Create a Set\n",
    "set={\"a\",\"b\",\"c\"}\n",
    "print(set)"
   ]
  },
  {
   "cell_type": "code",
   "execution_count": 4,
   "id": "849b4071-38db-46b2-94e5-4202a7cac466",
   "metadata": {},
   "outputs": [
    {
     "name": "stdout",
     "output_type": "stream",
     "text": [
      "{'a', 'b', 'c'}\n"
     ]
    }
   ],
   "source": [
    "#  Duplicates Not Allowed\n",
    "set={\"a\",\"b\",\"c\",\"b\"}\n",
    "print(set)"
   ]
  },
  {
   "cell_type": "code",
   "execution_count": 5,
   "id": "fcdaf651-0964-4fe0-aaeb-a25860d1e5cf",
   "metadata": {},
   "outputs": [
    {
     "name": "stdout",
     "output_type": "stream",
     "text": [
      "{'a', 1, 4, 'c', 'b'}\n"
     ]
    }
   ],
   "source": [
    "# The values True and 1 are considered the same value in sets, and are treated as duplicates:\n",
    "set={1,\"a\",\"b\",\"c\",\"b\",4,True}\n",
    "print(set)"
   ]
  },
  {
   "cell_type": "code",
   "execution_count": 7,
   "id": "ba99c512-296b-496f-895f-b3a6898d938c",
   "metadata": {},
   "outputs": [
    {
     "name": "stdout",
     "output_type": "stream",
     "text": [
      "{False, 'a', 4, 'c', 'b'}\n"
     ]
    }
   ],
   "source": [
    "# the values False and 0 are considered the same value in sets, and are treated as duplicates:\n",
    "set={False,\"a\",\"b\",\"c\",\"b\",4,0}\n",
    "print(set)"
   ]
  },
  {
   "cell_type": "code",
   "execution_count": 8,
   "id": "e09bfe30-a1b1-45db-9f81-20367b8900ab",
   "metadata": {},
   "outputs": [
    {
     "name": "stdout",
     "output_type": "stream",
     "text": [
      "3\n"
     ]
    }
   ],
   "source": [
    "# set length\n",
    "set={\"a\",\"b\",\"c\"}\n",
    "print(len(set))"
   ]
  },
  {
   "cell_type": "code",
   "execution_count": 10,
   "id": "7d75a534-21bf-4c76-8983-751e251fe34a",
   "metadata": {},
   "outputs": [
    {
     "name": "stdout",
     "output_type": "stream",
     "text": [
      "<class 'set'>\n"
     ]
    }
   ],
   "source": [
    "# A set can contain different datatypes\n",
    "set={\"a\",2,49,True}\n",
    "print(type(set))"
   ]
  },
  {
   "cell_type": "markdown",
   "id": "b1891ac8-8f24-4657-947e-6b5438d5c68a",
   "metadata": {},
   "source": [
    "* Set Methods"
   ]
  },
  {
   "cell_type": "raw",
   "id": "39a0c406-d6d6-45e0-bfdc-2cb3740324bb",
   "metadata": {},
   "source": [
    "Method\t                     Shortcut\t             Description\n",
    "\n",
    "add()\t \t                                   Adds an element to the set\n",
    "clear()\t \t                                   Removes all the elements from the set\n",
    "copy()\t \t                                   Returns a copy of the set\n",
    "difference()\t               -\t           Returns a set containing the difference between two or more sets\n",
    "difference_update()    \t      -=               Removes the items in this set that are also included in another, specified set\n",
    "discard()\t \t                               Remove the specified item\n",
    "intersection()\t               &\t           Returns a set, that is the intersection of two other sets\n",
    "intersection_update()\t       &=\t           Removes the items in this set that are not present in other, specified set(s)\n",
    "isdisjoint()\t \t                           Returns whether two sets have a intersection or not\n",
    "issubset()\t                   <=\t           Returns whether another set contains this set or not\n",
    " \t                           <\t           Returns whether all items in this set is present in other, specified set(s)\n",
    "issuperset()\t               >=\t           Returns whether this set contains another set or not\n",
    " \t                           >\t           Returns whether all items in other, specified set(s) is present in this set\n",
    "pop()\t \t                                   Removes an element from the set\n",
    "remove()\t \t                               Removes the specified element\n",
    "symmetric_difference()\t       ^\t           Returns a set with the symmetric differences of two sets\n",
    "symmetric_difference_update()  ^=\t           Inserts the symmetric differences from this set and another\n",
    "union()\t                       |\t           Return a set containing the union of sets\n",
    "update()\t                   |=\t           Update the set with the union of this set and others"
   ]
  },
  {
   "cell_type": "code",
   "execution_count": 13,
   "id": "07cff824-dfb3-438d-bb41-59486a854488",
   "metadata": {},
   "outputs": [
    {
     "name": "stdout",
     "output_type": "stream",
     "text": [
      "{'a', 1, 'e', 4, 'c', 'b', 'd'}\n"
     ]
    }
   ],
   "source": [
    "# add() : The add() method adds an element to the set.\n",
    "set={1,\"a\",\"d\",\"c\",\"e\",4}\n",
    "set.add(\"b\")\n",
    "print(set)"
   ]
  },
  {
   "cell_type": "code",
   "execution_count": 17,
   "id": "8d4a95b8-6652-48e2-9d96-f15bd3e580a0",
   "metadata": {},
   "outputs": [
    {
     "name": "stdout",
     "output_type": "stream",
     "text": [
      "set()\n"
     ]
    }
   ],
   "source": [
    "# clear() : The clear() method removes all elements in a set.\n",
    "set={1,\"a\",\"d\",\"c\",\"e\",4}\n",
    "set.clear()\n",
    "print(set)"
   ]
  },
  {
   "cell_type": "code",
   "execution_count": 19,
   "id": "2c4adb6c-e257-46ea-9e23-2e0a48510349",
   "metadata": {},
   "outputs": [
    {
     "name": "stdout",
     "output_type": "stream",
     "text": [
      "{'a', 1, 'e', 4, 'c', 'd'}\n"
     ]
    }
   ],
   "source": [
    "# copy() : The copy() method copies the set.\n",
    "set={1,\"a\",\"d\",\"c\",\"e\",4}\n",
    "x=set.copy()\n",
    "print(x)"
   ]
  },
  {
   "cell_type": "code",
   "execution_count": 21,
   "id": "d1cfa29a-36b4-46a1-a61c-730e46c2692f",
   "metadata": {},
   "outputs": [
    {
     "name": "stdout",
     "output_type": "stream",
     "text": [
      "{'banana', 'cherry'}\n"
     ]
    }
   ],
   "source": [
    "# difference() : Return a set that contains the items that only exist in set x, and not in set y\n",
    "x = {\"apple\", \"banana\", \"cherry\"}\n",
    "y = {\"google\", \"microsoft\", \"apple\"}\n",
    "z = x-y\n",
    "print(z)"
   ]
  },
  {
   "cell_type": "code",
   "execution_count": 28,
   "id": "e7b16799-e133-493e-a694-7c7c7fc5ec44",
   "metadata": {},
   "outputs": [
    {
     "name": "stdout",
     "output_type": "stream",
     "text": [
      "{'cherry'}\n"
     ]
    }
   ],
   "source": [
    "# difference_update() : Remove the items that exist in both sets:\n",
    "x = {\"apple\", \"banana\", \"cherry\"}\n",
    "y = {\"google\", \"microsoft\", \"apple\",\"banana\"}\n",
    "x.difference_update(y)\n",
    "print(x)"
   ]
  },
  {
   "cell_type": "code",
   "execution_count": 29,
   "id": "a0b5316e-7f13-4a22-8548-804bfeeb59fe",
   "metadata": {},
   "outputs": [
    {
     "name": "stdout",
     "output_type": "stream",
     "text": [
      "{'apple', 'cherry'}\n"
     ]
    }
   ],
   "source": [
    "# discard() : Remove specified item from the set:\n",
    "fruits = {\"apple\", \"banana\", \"cherry\"}\n",
    "fruits.discard(\"banana\")\n",
    "print(fruits)"
   ]
  },
  {
   "cell_type": "code",
   "execution_count": 30,
   "id": "4c1d1073-4871-4e55-9960-4e9019265a34",
   "metadata": {},
   "outputs": [
    {
     "name": "stdout",
     "output_type": "stream",
     "text": [
      "{'apple'}\n"
     ]
    }
   ],
   "source": [
    "# intersection() : Return a set that contains the items that exist in both set x, and set y:\n",
    "x = {\"apple\", \"banana\", \"cherry\"}\n",
    "y = {\"google\", \"microsoft\", \"apple\"}\n",
    "z = x.intersection(y)\n",
    "print(z)"
   ]
  },
  {
   "cell_type": "code",
   "execution_count": 31,
   "id": "b1bb32c9-a86a-42d2-bdc0-773ac28db5a2",
   "metadata": {},
   "outputs": [
    {
     "name": "stdout",
     "output_type": "stream",
     "text": [
      "True\n"
     ]
    }
   ],
   "source": [
    "# isdisjoint() : Return True if no items in set x is present in set y:\n",
    "x = {\"apple\", \"banana\", \"cherry\"}\n",
    "y = {\"google\", \"microsoft\", \"facebook\"}\n",
    "z = x.isdisjoint(y)\n",
    "print(z)"
   ]
  },
  {
   "cell_type": "code",
   "execution_count": 32,
   "id": "913e29dd-e82c-4833-8027-710482d5d0dc",
   "metadata": {},
   "outputs": [
    {
     "name": "stdout",
     "output_type": "stream",
     "text": [
      "True\n"
     ]
    }
   ],
   "source": [
    "# issubset() : Return True if all items in set x are present in set y:\n",
    "x = {\"a\", \"b\", \"c\"}\n",
    "y = {\"f\", \"e\", \"d\", \"c\", \"b\", \"a\"}\n",
    "z = x.issubset(y)\n",
    "print(z)"
   ]
  },
  {
   "cell_type": "code",
   "execution_count": 33,
   "id": "2ba17dc2-ccc1-4b4c-9af7-48a1c5dba272",
   "metadata": {},
   "outputs": [
    {
     "name": "stdout",
     "output_type": "stream",
     "text": [
      "True\n"
     ]
    }
   ],
   "source": [
    "# issuperset() : Return True if all items set y are present in set x:\n",
    "x = {\"f\", \"e\", \"d\", \"c\", \"b\", \"a\"}\n",
    "y = {\"a\", \"b\", \"c\"}\n",
    "z = x.issuperset(y)\n",
    "print(z)"
   ]
  },
  {
   "cell_type": "code",
   "execution_count": 34,
   "id": "ed7591f6-fb4d-4677-92d8-c3f6f58e74fc",
   "metadata": {},
   "outputs": [
    {
     "name": "stdout",
     "output_type": "stream",
     "text": [
      "{'apple', 'cherry'}\n"
     ]
    }
   ],
   "source": [
    "# pop() : Remove a random item from the set:\n",
    "fruits = {\"apple\", \"banana\", \"cherry\"}\n",
    "fruits.pop()\n",
    "print(fruits)"
   ]
  },
  {
   "cell_type": "code",
   "execution_count": 35,
   "id": "77373799-e7e4-48bb-a5d0-9aed84e6cad3",
   "metadata": {},
   "outputs": [
    {
     "name": "stdout",
     "output_type": "stream",
     "text": [
      "{'cherry', 'banana', 'google', 'microsoft'}\n"
     ]
    }
   ],
   "source": [
    "# symmetric_difference() : Return a set that contains all items from both sets, except items that are present in both sets:\n",
    "x = {\"apple\", \"banana\", \"cherry\"}\n",
    "y = {\"google\", \"microsoft\", \"apple\"}\n",
    "z = x.symmetric_difference(y)\n",
    "print(z)"
   ]
  },
  {
   "cell_type": "code",
   "execution_count": 36,
   "id": "53f2a95d-36d3-4c18-b935-9214c4bbe4af",
   "metadata": {},
   "outputs": [
    {
     "name": "stdout",
     "output_type": "stream",
     "text": [
      "{'apple', 'cherry', 'banana', 'google', 'microsoft'}\n"
     ]
    }
   ],
   "source": [
    "# union() : Return a set that contains all items from both sets, duplicates are excluded:\n",
    "x = {\"apple\", \"banana\", \"cherry\"}\n",
    "y = {\"google\", \"microsoft\", \"apple\"}\n",
    "z = x.union(y)\n",
    "print(z)"
   ]
  },
  {
   "cell_type": "code",
   "execution_count": 37,
   "id": "394536e3-b68e-4920-bb23-b8fbe7f46d55",
   "metadata": {},
   "outputs": [
    {
     "name": "stdout",
     "output_type": "stream",
     "text": [
      "{'apple', 'cherry', 'banana', 'google', 'microsoft'}\n"
     ]
    }
   ],
   "source": [
    "# update() : Insert the items from set y into set x:\n",
    "x = {\"apple\", \"banana\", \"cherry\"}\n",
    "y = {\"google\", \"microsoft\", \"apple\"}\n",
    "x.update(y)\n",
    "print(x)"
   ]
  }
 ],
 "metadata": {
  "kernelspec": {
   "display_name": "Python 3 (ipykernel)",
   "language": "python",
   "name": "python3"
  },
  "language_info": {
   "codemirror_mode": {
    "name": "ipython",
    "version": 3
   },
   "file_extension": ".py",
   "mimetype": "text/x-python",
   "name": "python",
   "nbconvert_exporter": "python",
   "pygments_lexer": "ipython3",
   "version": "3.11.7"
  }
 },
 "nbformat": 4,
 "nbformat_minor": 5
}

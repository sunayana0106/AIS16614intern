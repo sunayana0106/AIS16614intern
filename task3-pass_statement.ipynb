{
 "cells": [
  {
   "cell_type": "markdown",
   "id": "9d08cbee-354b-40fd-ad65-526235394519",
   "metadata": {},
   "source": [
    "# Pass Statement"
   ]
  },
  {
   "cell_type": "markdown",
   "id": "3ff413c5-62f9-4b66-98ab-343e8abe048d",
   "metadata": {},
   "source": [
    "* The pass statement in Python is a placeholder that does nothing when executed.\n",
    "* It's used to fill in parts of your code where syntax requires a statement but you don't want to perform any action.\n",
    "*  This can be helpful during development for stubbing out code blocks or functions that you plan to implement later.\n",
    "*  It allows you to write code that’s syntactically complete but functionally incomplete, giving you the flexibility to flesh out your program incrementally.\n",
    "\n",
    "\n",
    "\n",
    "\n",
    "\n",
    "\n"
   ]
  },
  {
   "cell_type": "code",
   "execution_count": 5,
   "id": "7f478f47-2824-4bd8-9fb3-7d6ea202d8fe",
   "metadata": {},
   "outputs": [
    {
     "name": "stdout",
     "output_type": "stream",
     "text": [
      "Positive number\n"
     ]
    }
   ],
   "source": [
    "number = 10\n",
    "if number > 0:\n",
    "    print(\"Positive number\")\n",
    "elif number == 0:\n",
    "    pass  # Nothing to do for zero\n",
    "else:\n",
    "    print(\"Negative number\")"
   ]
  },
  {
   "cell_type": "code",
   "execution_count": 7,
   "id": "54e6ed7e-10a4-40c9-96cd-bf73de192a6b",
   "metadata": {},
   "outputs": [
    {
     "name": "stdout",
     "output_type": "stream",
     "text": [
      "0\n",
      "1\n",
      "3\n",
      "4\n"
     ]
    }
   ],
   "source": [
    "for i in range(5):\n",
    "    if i == 2:\n",
    "        pass  # No action for the iteration when i is 2\n",
    "    else:\n",
    "        print(i)"
   ]
  },
  {
   "cell_type": "code",
   "execution_count": 15,
   "id": "2d83720a-9c10-498b-a235-e697e1deb5e2",
   "metadata": {},
   "outputs": [
    {
     "name": "stdout",
     "output_type": "stream",
     "text": [
      "60\n",
      "50\n",
      "fail\n",
      "30\n",
      "fail\n",
      "20\n"
     ]
    }
   ],
   "source": [
    "M=[60,50,30,20]\n",
    "for i in M:\n",
    "    if i<35:\n",
    "      print(\"fail\")\n",
    "      pass\n",
    "    print(i)\n",
    "    "
   ]
  }
 ],
 "metadata": {
  "kernelspec": {
   "display_name": "Python 3 (ipykernel)",
   "language": "python",
   "name": "python3"
  },
  "language_info": {
   "codemirror_mode": {
    "name": "ipython",
    "version": 3
   },
   "file_extension": ".py",
   "mimetype": "text/x-python",
   "name": "python",
   "nbconvert_exporter": "python",
   "pygments_lexer": "ipython3",
   "version": "3.11.7"
  }
 },
 "nbformat": 4,
 "nbformat_minor": 5
}

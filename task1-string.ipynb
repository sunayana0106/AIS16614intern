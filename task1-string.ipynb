{
 "cells": [
  {
   "cell_type": "markdown",
   "id": "6af6453c-0129-4fb1-91cd-28ca31526647",
   "metadata": {},
   "source": [
    "# Python String\n",
    "\n",
    "* Strings in python are surrounded by either single quotation marks, or double quotation marks.     \n",
    "* string can be literally displayed with the print() function        "
   ]
  },
  {
   "cell_type": "code",
   "execution_count": 1,
   "id": "ebbef8f5-4da4-44a4-9d74-18d7ef8aae9f",
   "metadata": {},
   "outputs": [
    {
     "name": "stdout",
     "output_type": "stream",
     "text": [
      "Sunayana\n"
     ]
    }
   ],
   "source": [
    "print(\"Sunayana\")"
   ]
  },
  {
   "cell_type": "markdown",
   "id": "15771eb3-5ffc-4262-a883-33aa62d78602",
   "metadata": {},
   "source": [
    "* quotes inside quotes is possible\n",
    "* String can be assigned to avariable\n",
    "* Multiline string can be assigned to a variable by using three quotes Or three single quotes (in the result, the line breaks are inserted at the same position as in the code \n",
    "* Strings are Arrays\n"
   ]
  },
  {
   "cell_type": "code",
   "execution_count": 1,
   "id": "d762383d-89c7-4c1e-9536-30fe7debb0c7",
   "metadata": {},
   "outputs": [
    {
     "name": "stdout",
     "output_type": "stream",
     "text": [
      "Bobbi told me, “Delia said, 'This will never work. ' ”\n"
     ]
    }
   ],
   "source": [
    "# quotes inside quotes is possible\n",
    "print(\"Bobbi told me, “Delia said, 'This will never work. ' ”\")"
   ]
  },
  {
   "cell_type": "code",
   "execution_count": 2,
   "id": "9d7c4a01-4be8-4c00-abc6-3aa50904f72d",
   "metadata": {},
   "outputs": [
    {
     "name": "stdout",
     "output_type": "stream",
     "text": [
      "hello\n"
     ]
    }
   ],
   "source": [
    "# String assign to a variable\n",
    "a=\"hello\"\n",
    "print(a)"
   ]
  },
  {
   "cell_type": "code",
   "execution_count": 3,
   "id": "ce911daa-908b-4deb-baa1-30b7ce7a7e30",
   "metadata": {},
   "outputs": [
    {
     "name": "stdout",
     "output_type": "stream",
     "text": [
      "Lorem ipsum dolor sit amet,\n",
      "consectetur adipiscing elit,\n",
      "sed do eiusmod tempor incididunt\n",
      "ut labore et dolore magna aliqua.\n"
     ]
    }
   ],
   "source": [
    "# Multiline Strings\n",
    "a = \"\"\"Lorem ipsum dolor sit amet,\n",
    "consectetur adipiscing elit,\n",
    "sed do eiusmod tempor incididunt\n",
    "ut labore et dolore magna aliqua.\"\"\"\n",
    "print(a)"
   ]
  },
  {
   "cell_type": "code",
   "execution_count": 8,
   "id": "73d24890-0d21-4433-ad00-d40f816d90d5",
   "metadata": {},
   "outputs": [
    {
     "name": "stdout",
     "output_type": "stream",
     "text": [
      "W\n",
      "r\n"
     ]
    }
   ],
   "source": [
    "# Strings are Arrays\n",
    "a = \"Wonderfull\"\n",
    "print(a[0])\n",
    "print(a[5])\n",
    "# Note: Get the character at position 1 (remember that the first character has the position 0)"
   ]
  },
  {
   "cell_type": "code",
   "execution_count": 9,
   "id": "f23dd0c4-4d47-4e9a-ac29-d8df61ec8458",
   "metadata": {},
   "outputs": [
    {
     "name": "stdout",
     "output_type": "stream",
     "text": [
      "S\n",
      "u\n",
      "n\n",
      "a\n",
      "y\n",
      "a\n",
      "n\n",
      "a\n"
     ]
    }
   ],
   "source": [
    "#Looping Through a String\n",
    "#since strings are arrays, we can loop through the characters in a string, with a for loop.\n",
    "for x in \"Sunayana\":\n",
    "  print(x)"
   ]
  },
  {
   "cell_type": "code",
   "execution_count": 11,
   "id": "902ff76c-15b2-4a27-9239-5d93309d5a4c",
   "metadata": {},
   "outputs": [
    {
     "name": "stdout",
     "output_type": "stream",
     "text": [
      "13\n"
     ]
    }
   ],
   "source": [
    "# string length detemines the length of characters\n",
    "a=\"AIS Solutions\"\n",
    "print(len(a))"
   ]
  },
  {
   "cell_type": "code",
   "execution_count": 4,
   "id": "3bd44b91-61f2-48e8-8e34-ef2782fa31fc",
   "metadata": {},
   "outputs": [
    {
     "name": "stdout",
     "output_type": "stream",
     "text": [
      "True\n"
     ]
    }
   ],
   "source": [
    "# Check String\n",
    "# To check if a certain phrase or character is present in a string, we can use the keyword in.\n",
    "a = \"India is my country\"\n",
    "print(\"India\" in a)"
   ]
  },
  {
   "cell_type": "code",
   "execution_count": 5,
   "id": "1fb0b185-9589-4b26-8b17-bf58af93c5b1",
   "metadata": {},
   "outputs": [
    {
     "name": "stdout",
     "output_type": "stream",
     "text": [
      "Yes, 'India' is present.\n",
      "No, 'China' is not present.\n"
     ]
    }
   ],
   "source": [
    "# use if in and if not in to check string\n",
    "a = \"India is my country\"  \n",
    "if \"India\" in a:\n",
    "  print(\"Yes, 'India' is present.\")\n",
    "a = \"India is my country\"  \n",
    "if \"China\" not in a:\n",
    "  print(\"No, 'China' is not present.\")    "
   ]
  },
  {
   "cell_type": "markdown",
   "id": "679faa27-8953-4fd1-a211-aced10d2cec9",
   "metadata": {},
   "source": [
    "* String Methods"
   ]
  },
  {
   "cell_type": "raw",
   "id": "01655ed8-4dc4-46bf-b99c-3d0de5331ada",
   "metadata": {},
   "source": [
    "  Method\t                                  Description\n",
    "\n",
    "capitalize()\t              Converts the first character to upper case\n",
    "casefold()\t                  Converts string into lower case\n",
    "center()\t                  Returns a centered string\n",
    "count()\t                      Returns the number of times a specified value occurs in a string\n",
    "encode()\t                  Returns an encoded version of the string\n",
    "endswith()\t                  Returns true if the string ends with the specified value\n",
    "expandtabs()\t              Sets the tab size of the string\n",
    "find()\t                      Searches the string for a specified value and returns the position of where it was found\n",
    "format()\t                  Formats specified values in a string\n",
    "format_map()\t              Formats specified values in a string\n",
    "index()\t                      Searches the string for a specified value and returns the position of where it was found\n",
    "isalnum()\t                  Returns True if all characters in the string are alphanumeric\n",
    "isalpha()\t                  Returns True if all characters in the string are in the alphabet\n",
    "isascii()\t                  Returns True if all characters in the string are ascii characters\n",
    "isdecimal()\t                  Returns True if all characters in the string are decimals\n",
    "isdigit()\t                  Returns True if all characters in the string are digits\n",
    "isidentifier()\t              Returns True if the string is an identifier\n",
    "islower()\t                  Returns True if all characters in the string are lower case\n",
    "isnumeric()\t                  Returns True if all characters in the string are numeric\n",
    "isprintable()\t              Returns True if all characters in the string are printable\n",
    "isspace()\t                  Returns True if all characters in the string are whitespaces\n",
    "istitle()\t                  Returns True if the string follows the rules of a title\n",
    "isupper()\t                  Returns True if all characters in the string are upper case\n",
    "join()\t                      Joins the elements of an iterable to the end of the string\n",
    "ljust()\t                      Returns a left justified version of the string\n",
    "lower()                       Converts a string into lower case\n",
    "lstrip()\t                  Returns a left trim version of the string\n",
    "maketrans()                   Returns a translation table to be used in translations\n",
    "partition()                   Returns a tuple where the string is parted into three parts\n",
    "replace()\t                  Returns a string where a specified value is replaced with a specified value\n",
    "rfind()\t                      Searches the string for a specified value and returns the last position of where it was found\n",
    "rindex()\t                  Searches the string for a specified value and returns the last position of where it was found\n",
    "rjust()\t                      Returns a right justified version of the string\n",
    "rpartition()\t              Returns a tuple where the string is parted into three parts\n",
    "rsplit()\t                  Splits the string at the specified separator, and returns a list\n",
    "rstrip()\t                  Returns a right trim version of the string\n",
    "split()              \t      Splits the string at the specified separator, and returns a list\n",
    "splitlines()\t              Splits the string at line breaks and returns a list\n",
    "startswith()\t              Returns true if the string starts with the specified value\n",
    "strip()              \t      Returns a trimmed version of the string\n",
    "swapcase()\t                  Swaps cases, lower case becomes upper case and vice versa\n",
    "title()\t                      Converts the first character of each word to upper case\n",
    "translate()          \t      Returns a translated string\n",
    "upper()\t                      Converts a string into upper case\n",
    "zfill() \t                  Fills the string with a specified number of 0 values at the beginning"
   ]
  }
 ],
 "metadata": {
  "kernelspec": {
   "display_name": "Python 3 (ipykernel)",
   "language": "python",
   "name": "python3"
  },
  "language_info": {
   "codemirror_mode": {
    "name": "ipython",
    "version": 3
   },
   "file_extension": ".py",
   "mimetype": "text/x-python",
   "name": "python",
   "nbconvert_exporter": "python",
   "pygments_lexer": "ipython3",
   "version": "3.11.7"
  }
 },
 "nbformat": 4,
 "nbformat_minor": 5
}

{
 "cells": [
  {
   "cell_type": "markdown",
   "id": "45d86b48-fe23-49b0-ae87-b8e518046a1b",
   "metadata": {},
   "source": [
    "# Python Numbers\n",
    "\n",
    "There are three numeric types in Python\n",
    "\n",
    "1. int\n",
    "2. float\n",
    "3. complex"
   ]
  },
  {
   "cell_type": "markdown",
   "id": "c56e75a4-2991-41e9-ad7c-9d2dbe2320d4",
   "metadata": {},
   "source": [
    "1. Int      \n",
    "   Int, or integer, is a whole number, positive or negative, without decimals, of unlimited length."
   ]
  },
  {
   "cell_type": "code",
   "execution_count": 2,
   "id": "3a91f691-d388-4f0a-ad4c-e1f4cc6ae916",
   "metadata": {},
   "outputs": [
    {
     "name": "stdout",
     "output_type": "stream",
     "text": [
      "<class 'int'>\n",
      "<class 'int'>\n"
     ]
    }
   ],
   "source": [
    "x=27\n",
    "y=-399\n",
    "print(type(x))\n",
    "print(type(y))"
   ]
  },
  {
   "cell_type": "markdown",
   "id": "1aa03f67-137e-4129-85e8-d3ac71951f12",
   "metadata": {},
   "source": [
    "2. Float     \n",
    "   Float, or \"floating point number\" is a number, positive or negative, containing one or more decimals."
   ]
  },
  {
   "cell_type": "code",
   "execution_count": 4,
   "id": "21479d6c-96ee-4bb6-8a16-ecee930d9bcf",
   "metadata": {},
   "outputs": [
    {
     "name": "stdout",
     "output_type": "stream",
     "text": [
      "<class 'float'>\n",
      "<class 'float'>\n"
     ]
    }
   ],
   "source": [
    "x = 1.10\n",
    "print(type(x))\n",
    "z = -87.7e100\n",
    "print(type(z))"
   ]
  },
  {
   "cell_type": "markdown",
   "id": "ac4875d5-c88b-4606-8046-ec752431fb68",
   "metadata": {},
   "source": [
    "3. Complex    \n",
    "   Complex numbers are written with a \"j\" as the imaginary part"
   ]
  },
  {
   "cell_type": "code",
   "execution_count": 5,
   "id": "1fa8ebdc-adf3-45ec-bdff-b65db9fb68fe",
   "metadata": {},
   "outputs": [
    {
     "name": "stdout",
     "output_type": "stream",
     "text": [
      "<class 'complex'>\n"
     ]
    }
   ],
   "source": [
    "x = 3+5j\n",
    "print(type(x))"
   ]
  }
 ],
 "metadata": {
  "kernelspec": {
   "display_name": "Python 3 (ipykernel)",
   "language": "python",
   "name": "python3"
  },
  "language_info": {
   "codemirror_mode": {
    "name": "ipython",
    "version": 3
   },
   "file_extension": ".py",
   "mimetype": "text/x-python",
   "name": "python",
   "nbconvert_exporter": "python",
   "pygments_lexer": "ipython3",
   "version": "3.11.7"
  }
 },
 "nbformat": 4,
 "nbformat_minor": 5
}
